{
  "nbformat": 4,
  "nbformat_minor": 0,
  "metadata": {
    "colab": {
      "name": "PI_Titanic.ipynb",
      "provenance": [],
      "collapsed_sections": [],
      "toc_visible": true,
      "include_colab_link": true
    },
    "kernelspec": {
      "name": "python3",
      "display_name": "Python 3"
    }
  },
  "cells": [
    {
      "cell_type": "markdown",
      "metadata": {
        "id": "view-in-github",
        "colab_type": "text"
      },
      "source": [
        "<a href=\"https://colab.research.google.com/github/EdiJunio/PI_Titanic/blob/main/PI_Titanic.ipynb\" target=\"_parent\"><img src=\"https://colab.research.google.com/assets/colab-badge.svg\" alt=\"Open In Colab\"/></a>"
      ]
    },
    {
      "cell_type": "markdown",
      "metadata": {
        "id": "gMOUOB9VU45E"
      },
      "source": [
        "O Titanic challenge é uma competição do Kaggle em que o objetivo é prever o passageiro que sobrevive ou morre baseado em uma série de variáveis como idade, sexo, tipo da passagem, etc.\n",
        "\n",
        "Este notebook é baseado no notebook do ahmedbasbas e objetivo é atingir um score de 0.8134. Com esse score é possível estar entre os 5% melhores do Kaggle."
      ]
    },
    {
      "cell_type": "markdown",
      "metadata": {
        "id": "Fhe5YiXwU_v2"
      },
      "source": [
        "Iniciaremos com uma fase de *exploratory data analysis* (EDA), após isso faremos a *feature engineering* e finalmente faremos o modelo preditivo.\n",
        "\n",
        "As principais bibliotecas a serem utilizadas serão:\n",
        "\n",
        "* **Pandas** para manipulação e ingestão dos dados.\n",
        "* **Matplotlib** e **seaborn** para visualização dos dados.\n",
        "* **Numpy** para computação de arrays multidimensionais.\n",
        "* **sklearn** para machine learning e modelagem preditiva.\n",
        "\n",
        "## Ambiente\n",
        "\n",
        "São 3 opções:\n",
        "\n",
        "\n",
        "* instalar o jupyter na sua máquina.\n",
        "* Utilizar o notebook no próprio Kaggle\n",
        "* Utilizar o colab do google."
      ]
    },
    {
      "cell_type": "markdown",
      "metadata": {
        "id": "jUm3GBsxVDZS"
      },
      "source": [
        "# I - Exploratory data analysis (EDA)\n",
        "\n",
        "Um projeto de data science sempre se inicia com uma análise cuidadosa dos dados e construção das primeiras impressões.\n",
        "\n",
        "Nesta sessão n's faremos quatro coisas: "
      ]
    },
    {
      "cell_type": "code",
      "metadata": {
        "id": "kIOPeK4ZVFWD"
      },
      "source": [
        "from IPython.core.display import HTML\n",
        "HTML(\"\"\"\n",
        "<style>\n",
        ".output_png {\n",
        "    display: table-cell;\n",
        "    text-align: center;\n",
        "    vertical-align: middle;\n",
        "}\n",
        "</style>\n",
        "\"\"\");"
      ],
      "execution_count": null,
      "outputs": []
    },
    {
      "cell_type": "markdown",
      "metadata": {
        "id": "ETMkA9YJVH9C"
      },
      "source": [
        "Agora vamos importar as bibliotecas que serão úteis."
      ]
    },
    {
      "cell_type": "code",
      "metadata": {
        "id": "k-cn-RnVVKl7"
      },
      "source": [
        "%matplotlib inline\n",
        "\n",
        "import warnings\n",
        "warnings.filterwarnings('ignore')\n",
        "warnings.filterwarnings('ignore', category=DeprecationWarning)\n",
        "\n",
        "import pandas as pd\n",
        "pd.options.display.max_columns = 100\n",
        "\n",
        "from matplotlib import pyplot as plt\n",
        "import numpy as np\n",
        "\n",
        "import seaborn as sns\n",
        "\n",
        "import pylab as plot\n",
        "params = {\n",
        "    'axes.labelsize': \"large\",\n",
        "    'xtick.labelsize': 'x-large',\n",
        "    'legend.fontsize': 20,\n",
        "    'figure.dpi': 150,\n",
        "    'figure.figsize': [25, 7]\n",
        "}\n",
        "plot.rcParams.update(params)"
      ],
      "execution_count": null,
      "outputs": []
    },
    {
      "cell_type": "markdown",
      "metadata": {
        "id": "za1DcWutVPeq"
      },
      "source": [
        "Para esse problema, o Kaggle oferece dois datasets: um de treinamento e um de teste. Nós vamos usar o de treinamento para construir nosso modelo preditivo e o de teste para avalia-lo e gerar um arquivo de saída para submeter para o sistema de avaliação do Kaggle.\n",
        "\n",
        "Vamos começar carregando a base de treinamento. Primeiro faça o download da base de treinamento no Kaggle .\n",
        "\n",
        "Agora vamos subir o arquivo de treinamento para o notebook.\n",
        "\n",
        "Existem 3 boas formas de fazer isso :\n",
        "\n",
        "Abrir direto do github (arquivos até 25MB)\n",
        "Fazer upload da sua máquina.\n",
        "Acessar um arquivo do seu google drive.\n",
        "Vamos optar pelo upload."
      ]
    },
    {
      "cell_type": "code",
      "metadata": {
        "id": "QljocrugVTIN",
        "colab": {
          "resources": {
            "http://localhost:8080/nbextensions/google.colab/files.js": {
              "data": "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",
              "ok": true,
              "headers": [
                [
                  "content-type",
                  "application/javascript"
                ]
              ],
              "status": 200,
              "status_text": ""
            }
          },
          "base_uri": "https://localhost:8080/",
          "height": 106
        },
        "outputId": "7309e03e-bff8-4eb6-e60a-79a59fee2d6a"
      },
      "source": [
        "from google.colab import files\n",
        "# upload do arquivo de treinamento (train.csv)\n",
        "uploaded = files.upload()"
      ],
      "execution_count": null,
      "outputs": [
        {
          "output_type": "display_data",
          "data": {
            "text/html": [
              "\n",
              "     <input type=\"file\" id=\"files-300dc687-b978-4a3e-a415-eed968de95e5\" name=\"files[]\" multiple disabled\n",
              "        style=\"border:none\" />\n",
              "     <output id=\"result-300dc687-b978-4a3e-a415-eed968de95e5\">\n",
              "      Upload widget is only available when the cell has been executed in the\n",
              "      current browser session. Please rerun this cell to enable.\n",
              "      </output>\n",
              "      <script src=\"/nbextensions/google.colab/files.js\"></script> "
            ],
            "text/plain": [
              "<IPython.core.display.HTML object>"
            ]
          },
          "metadata": {
            "tags": []
          }
        },
        {
          "output_type": "stream",
          "text": [
            "Saving test.csv to test.csv\n",
            "Saving train.csv to train.csv\n"
          ],
          "name": "stdout"
        }
      ]
    },
    {
      "cell_type": "code",
      "metadata": {
        "id": "AIO6SYf6WOV_"
      },
      "source": [
        "import io\n",
        "data = pd.read_csv(io.BytesIO(uploaded['train.csv']))"
      ],
      "execution_count": null,
      "outputs": []
    },
    {
      "cell_type": "code",
      "metadata": {
        "id": "5VNckQKPWmT-",
        "colab": {
          "base_uri": "https://localhost:8080/"
        },
        "outputId": "d7fc281e-b4d3-49a7-caa2-5377303c8f4a"
      },
      "source": [
        "print(data.shape)"
      ],
      "execution_count": null,
      "outputs": [
        {
          "output_type": "stream",
          "text": [
            "(891, 12)\n"
          ],
          "name": "stdout"
        }
      ]
    },
    {
      "cell_type": "markdown",
      "metadata": {
        "id": "u7iKT7VlWsQF"
      },
      "source": [
        "Se tudo deu certo, pode ver que temos:\n",
        "* 891 linhas\n",
        "* 12 colunas"
      ]
    },
    {
      "cell_type": "markdown",
      "metadata": {
        "id": "zvyyR-h-WwR8"
      },
      "source": [
        "O Pandas permite que você dê uma olhada nos dados ..."
      ]
    },
    {
      "cell_type": "code",
      "metadata": {
        "id": "2zBg4HwKWyzt",
        "colab": {
          "base_uri": "https://localhost:8080/",
          "height": 204
        },
        "outputId": "0616115b-e31f-403a-80d1-c032de5781c7"
      },
      "source": [
        "data.head()"
      ],
      "execution_count": null,
      "outputs": [
        {
          "output_type": "execute_result",
          "data": {
            "text/html": [
              "<div>\n",
              "<style scoped>\n",
              "    .dataframe tbody tr th:only-of-type {\n",
              "        vertical-align: middle;\n",
              "    }\n",
              "\n",
              "    .dataframe tbody tr th {\n",
              "        vertical-align: top;\n",
              "    }\n",
              "\n",
              "    .dataframe thead th {\n",
              "        text-align: right;\n",
              "    }\n",
              "</style>\n",
              "<table border=\"1\" class=\"dataframe\">\n",
              "  <thead>\n",
              "    <tr style=\"text-align: right;\">\n",
              "      <th></th>\n",
              "      <th>PassengerId</th>\n",
              "      <th>Survived</th>\n",
              "      <th>Pclass</th>\n",
              "      <th>Name</th>\n",
              "      <th>Sex</th>\n",
              "      <th>Age</th>\n",
              "      <th>SibSp</th>\n",
              "      <th>Parch</th>\n",
              "      <th>Ticket</th>\n",
              "      <th>Fare</th>\n",
              "      <th>Cabin</th>\n",
              "      <th>Embarked</th>\n",
              "    </tr>\n",
              "  </thead>\n",
              "  <tbody>\n",
              "    <tr>\n",
              "      <th>0</th>\n",
              "      <td>1</td>\n",
              "      <td>0</td>\n",
              "      <td>3</td>\n",
              "      <td>Braund, Mr. Owen Harris</td>\n",
              "      <td>male</td>\n",
              "      <td>22.0</td>\n",
              "      <td>1</td>\n",
              "      <td>0</td>\n",
              "      <td>A/5 21171</td>\n",
              "      <td>7.2500</td>\n",
              "      <td>NaN</td>\n",
              "      <td>S</td>\n",
              "    </tr>\n",
              "    <tr>\n",
              "      <th>1</th>\n",
              "      <td>2</td>\n",
              "      <td>1</td>\n",
              "      <td>1</td>\n",
              "      <td>Cumings, Mrs. John Bradley (Florence Briggs Th...</td>\n",
              "      <td>female</td>\n",
              "      <td>38.0</td>\n",
              "      <td>1</td>\n",
              "      <td>0</td>\n",
              "      <td>PC 17599</td>\n",
              "      <td>71.2833</td>\n",
              "      <td>C85</td>\n",
              "      <td>C</td>\n",
              "    </tr>\n",
              "    <tr>\n",
              "      <th>2</th>\n",
              "      <td>3</td>\n",
              "      <td>1</td>\n",
              "      <td>3</td>\n",
              "      <td>Heikkinen, Miss. Laina</td>\n",
              "      <td>female</td>\n",
              "      <td>26.0</td>\n",
              "      <td>0</td>\n",
              "      <td>0</td>\n",
              "      <td>STON/O2. 3101282</td>\n",
              "      <td>7.9250</td>\n",
              "      <td>NaN</td>\n",
              "      <td>S</td>\n",
              "    </tr>\n",
              "    <tr>\n",
              "      <th>3</th>\n",
              "      <td>4</td>\n",
              "      <td>1</td>\n",
              "      <td>1</td>\n",
              "      <td>Futrelle, Mrs. Jacques Heath (Lily May Peel)</td>\n",
              "      <td>female</td>\n",
              "      <td>35.0</td>\n",
              "      <td>1</td>\n",
              "      <td>0</td>\n",
              "      <td>113803</td>\n",
              "      <td>53.1000</td>\n",
              "      <td>C123</td>\n",
              "      <td>S</td>\n",
              "    </tr>\n",
              "    <tr>\n",
              "      <th>4</th>\n",
              "      <td>5</td>\n",
              "      <td>0</td>\n",
              "      <td>3</td>\n",
              "      <td>Allen, Mr. William Henry</td>\n",
              "      <td>male</td>\n",
              "      <td>35.0</td>\n",
              "      <td>0</td>\n",
              "      <td>0</td>\n",
              "      <td>373450</td>\n",
              "      <td>8.0500</td>\n",
              "      <td>NaN</td>\n",
              "      <td>S</td>\n",
              "    </tr>\n",
              "  </tbody>\n",
              "</table>\n",
              "</div>"
            ],
            "text/plain": [
              "   PassengerId  Survived  Pclass  \\\n",
              "0            1         0       3   \n",
              "1            2         1       1   \n",
              "2            3         1       3   \n",
              "3            4         1       1   \n",
              "4            5         0       3   \n",
              "\n",
              "                                                Name     Sex   Age  SibSp  \\\n",
              "0                            Braund, Mr. Owen Harris    male  22.0      1   \n",
              "1  Cumings, Mrs. John Bradley (Florence Briggs Th...  female  38.0      1   \n",
              "2                             Heikkinen, Miss. Laina  female  26.0      0   \n",
              "3       Futrelle, Mrs. Jacques Heath (Lily May Peel)  female  35.0      1   \n",
              "4                           Allen, Mr. William Henry    male  35.0      0   \n",
              "\n",
              "   Parch            Ticket     Fare Cabin Embarked  \n",
              "0      0         A/5 21171   7.2500   NaN        S  \n",
              "1      0          PC 17599  71.2833   C85        C  \n",
              "2      0  STON/O2. 3101282   7.9250   NaN        S  \n",
              "3      0            113803  53.1000  C123        S  \n",
              "4      0            373450   8.0500   NaN        S  "
            ]
          },
          "metadata": {
            "tags": []
          },
          "execution_count": 46
        }
      ]
    },
    {
      "cell_type": "markdown",
      "metadata": {
        "id": "tIn36ekQXYvq"
      },
      "source": [
        "A coluna Survived é a variável alvo, aquela que queremos prever. Se Survided=1 o passageiro sobreviveu, caso contrário ele morreu.\n",
        "\n",
        "As outras variáveis descrevem os passageiros, são elas que chamamos de features.\n",
        "\n",
        "* PassengerId: Id de cada passageiro no barco.\n",
        "* Pclass: a classe do passageiro. Existem 3 valores possíveis: 1,2 e 3 (Primeira, segunda e terceira classe)\n",
        "* Name: nome\n",
        "* Sex: sexo\n",
        "* Age: idade\n",
        "* SibSp: quantidade de irmãos e conjuge (Siblings e spouses) viajando com o passageiro.\n",
        "* Parch: quantidade de pais e filhos viajando com o passageiro\n",
        "* The ticket number: numero do bilhete\n",
        "* The ticket Fare: tarifa do bilhete\n",
        "* The cabin number: número da cabine\n",
        "* The embarkation: O Titanic tinha três portos possíveis de embarque: C = Cherbourg, Q = Queenstown, S = Southampton"
      ]
    },
    {
      "cell_type": "markdown",
      "metadata": {
        "id": "urFFv5HfXi-0"
      },
      "source": [
        "Com o Pandas é possível ter uma visão geral através de dados estísticos simples da features numéricas. Basta usar o método describe."
      ]
    },
    {
      "cell_type": "code",
      "metadata": {
        "id": "w5--0DZiXmEq",
        "colab": {
          "base_uri": "https://localhost:8080/",
          "height": 297
        },
        "outputId": "682fab20-8303-48bf-b059-8cdc41912c50"
      },
      "source": [
        "data.describe()"
      ],
      "execution_count": null,
      "outputs": [
        {
          "output_type": "execute_result",
          "data": {
            "text/html": [
              "<div>\n",
              "<style scoped>\n",
              "    .dataframe tbody tr th:only-of-type {\n",
              "        vertical-align: middle;\n",
              "    }\n",
              "\n",
              "    .dataframe tbody tr th {\n",
              "        vertical-align: top;\n",
              "    }\n",
              "\n",
              "    .dataframe thead th {\n",
              "        text-align: right;\n",
              "    }\n",
              "</style>\n",
              "<table border=\"1\" class=\"dataframe\">\n",
              "  <thead>\n",
              "    <tr style=\"text-align: right;\">\n",
              "      <th></th>\n",
              "      <th>PassengerId</th>\n",
              "      <th>Survived</th>\n",
              "      <th>Pclass</th>\n",
              "      <th>Age</th>\n",
              "      <th>SibSp</th>\n",
              "      <th>Parch</th>\n",
              "      <th>Fare</th>\n",
              "    </tr>\n",
              "  </thead>\n",
              "  <tbody>\n",
              "    <tr>\n",
              "      <th>count</th>\n",
              "      <td>891.000000</td>\n",
              "      <td>891.000000</td>\n",
              "      <td>891.000000</td>\n",
              "      <td>714.000000</td>\n",
              "      <td>891.000000</td>\n",
              "      <td>891.000000</td>\n",
              "      <td>891.000000</td>\n",
              "    </tr>\n",
              "    <tr>\n",
              "      <th>mean</th>\n",
              "      <td>446.000000</td>\n",
              "      <td>0.383838</td>\n",
              "      <td>2.308642</td>\n",
              "      <td>29.699118</td>\n",
              "      <td>0.523008</td>\n",
              "      <td>0.381594</td>\n",
              "      <td>32.204208</td>\n",
              "    </tr>\n",
              "    <tr>\n",
              "      <th>std</th>\n",
              "      <td>257.353842</td>\n",
              "      <td>0.486592</td>\n",
              "      <td>0.836071</td>\n",
              "      <td>14.526497</td>\n",
              "      <td>1.102743</td>\n",
              "      <td>0.806057</td>\n",
              "      <td>49.693429</td>\n",
              "    </tr>\n",
              "    <tr>\n",
              "      <th>min</th>\n",
              "      <td>1.000000</td>\n",
              "      <td>0.000000</td>\n",
              "      <td>1.000000</td>\n",
              "      <td>0.420000</td>\n",
              "      <td>0.000000</td>\n",
              "      <td>0.000000</td>\n",
              "      <td>0.000000</td>\n",
              "    </tr>\n",
              "    <tr>\n",
              "      <th>25%</th>\n",
              "      <td>223.500000</td>\n",
              "      <td>0.000000</td>\n",
              "      <td>2.000000</td>\n",
              "      <td>20.125000</td>\n",
              "      <td>0.000000</td>\n",
              "      <td>0.000000</td>\n",
              "      <td>7.910400</td>\n",
              "    </tr>\n",
              "    <tr>\n",
              "      <th>50%</th>\n",
              "      <td>446.000000</td>\n",
              "      <td>0.000000</td>\n",
              "      <td>3.000000</td>\n",
              "      <td>28.000000</td>\n",
              "      <td>0.000000</td>\n",
              "      <td>0.000000</td>\n",
              "      <td>14.454200</td>\n",
              "    </tr>\n",
              "    <tr>\n",
              "      <th>75%</th>\n",
              "      <td>668.500000</td>\n",
              "      <td>1.000000</td>\n",
              "      <td>3.000000</td>\n",
              "      <td>38.000000</td>\n",
              "      <td>1.000000</td>\n",
              "      <td>0.000000</td>\n",
              "      <td>31.000000</td>\n",
              "    </tr>\n",
              "    <tr>\n",
              "      <th>max</th>\n",
              "      <td>891.000000</td>\n",
              "      <td>1.000000</td>\n",
              "      <td>3.000000</td>\n",
              "      <td>80.000000</td>\n",
              "      <td>8.000000</td>\n",
              "      <td>6.000000</td>\n",
              "      <td>512.329200</td>\n",
              "    </tr>\n",
              "  </tbody>\n",
              "</table>\n",
              "</div>"
            ],
            "text/plain": [
              "       PassengerId    Survived      Pclass         Age       SibSp  \\\n",
              "count   891.000000  891.000000  891.000000  714.000000  891.000000   \n",
              "mean    446.000000    0.383838    2.308642   29.699118    0.523008   \n",
              "std     257.353842    0.486592    0.836071   14.526497    1.102743   \n",
              "min       1.000000    0.000000    1.000000    0.420000    0.000000   \n",
              "25%     223.500000    0.000000    2.000000   20.125000    0.000000   \n",
              "50%     446.000000    0.000000    3.000000   28.000000    0.000000   \n",
              "75%     668.500000    1.000000    3.000000   38.000000    1.000000   \n",
              "max     891.000000    1.000000    3.000000   80.000000    8.000000   \n",
              "\n",
              "            Parch        Fare  \n",
              "count  891.000000  891.000000  \n",
              "mean     0.381594   32.204208  \n",
              "std      0.806057   49.693429  \n",
              "min      0.000000    0.000000  \n",
              "25%      0.000000    7.910400  \n",
              "50%      0.000000   14.454200  \n",
              "75%      0.000000   31.000000  \n",
              "max      6.000000  512.329200  "
            ]
          },
          "metadata": {
            "tags": []
          },
          "execution_count": 47
        }
      ]
    },
    {
      "cell_type": "markdown",
      "metadata": {
        "id": "PuZp-vAHYzXz"
      },
      "source": [
        "Repare a variável \"Age\", ela demonstra que 177 linhas estão faltando valores.\n",
        "Uma solução é preencher os valores nulos com a mediana das idades.\n",
        "Nós podemos também preencher com a média das idades, no entanto a mediana é mais robusta aos outliers.\n",
        "\n",
        "*Lembrando*: A média é a média aritmética de um conjunto de números. A mediana é um valor numérico que separa a metade superior de um conjunto da metade inferior."
      ]
    },
    {
      "cell_type": "code",
      "metadata": {
        "id": "NFEHbeVuY1RQ"
      },
      "source": [
        "data['Age'] = data['Age'].fillna(data['Age'].median())"
      ],
      "execution_count": null,
      "outputs": []
    },
    {
      "cell_type": "markdown",
      "metadata": {
        "id": "G3kV3_H1Y-d0"
      },
      "source": [
        "Vamos verificar o resultado:"
      ]
    },
    {
      "cell_type": "code",
      "metadata": {
        "id": "nzAjXW_VZBE2",
        "colab": {
          "base_uri": "https://localhost:8080/",
          "height": 297
        },
        "outputId": "e3d5ba7a-ca7c-4917-c62d-6756e1184dd4"
      },
      "source": [
        "data.describe()"
      ],
      "execution_count": null,
      "outputs": [
        {
          "output_type": "execute_result",
          "data": {
            "text/html": [
              "<div>\n",
              "<style scoped>\n",
              "    .dataframe tbody tr th:only-of-type {\n",
              "        vertical-align: middle;\n",
              "    }\n",
              "\n",
              "    .dataframe tbody tr th {\n",
              "        vertical-align: top;\n",
              "    }\n",
              "\n",
              "    .dataframe thead th {\n",
              "        text-align: right;\n",
              "    }\n",
              "</style>\n",
              "<table border=\"1\" class=\"dataframe\">\n",
              "  <thead>\n",
              "    <tr style=\"text-align: right;\">\n",
              "      <th></th>\n",
              "      <th>PassengerId</th>\n",
              "      <th>Survived</th>\n",
              "      <th>Pclass</th>\n",
              "      <th>Age</th>\n",
              "      <th>SibSp</th>\n",
              "      <th>Parch</th>\n",
              "      <th>Fare</th>\n",
              "    </tr>\n",
              "  </thead>\n",
              "  <tbody>\n",
              "    <tr>\n",
              "      <th>count</th>\n",
              "      <td>891.000000</td>\n",
              "      <td>891.000000</td>\n",
              "      <td>891.000000</td>\n",
              "      <td>891.000000</td>\n",
              "      <td>891.000000</td>\n",
              "      <td>891.000000</td>\n",
              "      <td>891.000000</td>\n",
              "    </tr>\n",
              "    <tr>\n",
              "      <th>mean</th>\n",
              "      <td>446.000000</td>\n",
              "      <td>0.383838</td>\n",
              "      <td>2.308642</td>\n",
              "      <td>29.361582</td>\n",
              "      <td>0.523008</td>\n",
              "      <td>0.381594</td>\n",
              "      <td>32.204208</td>\n",
              "    </tr>\n",
              "    <tr>\n",
              "      <th>std</th>\n",
              "      <td>257.353842</td>\n",
              "      <td>0.486592</td>\n",
              "      <td>0.836071</td>\n",
              "      <td>13.019697</td>\n",
              "      <td>1.102743</td>\n",
              "      <td>0.806057</td>\n",
              "      <td>49.693429</td>\n",
              "    </tr>\n",
              "    <tr>\n",
              "      <th>min</th>\n",
              "      <td>1.000000</td>\n",
              "      <td>0.000000</td>\n",
              "      <td>1.000000</td>\n",
              "      <td>0.420000</td>\n",
              "      <td>0.000000</td>\n",
              "      <td>0.000000</td>\n",
              "      <td>0.000000</td>\n",
              "    </tr>\n",
              "    <tr>\n",
              "      <th>25%</th>\n",
              "      <td>223.500000</td>\n",
              "      <td>0.000000</td>\n",
              "      <td>2.000000</td>\n",
              "      <td>22.000000</td>\n",
              "      <td>0.000000</td>\n",
              "      <td>0.000000</td>\n",
              "      <td>7.910400</td>\n",
              "    </tr>\n",
              "    <tr>\n",
              "      <th>50%</th>\n",
              "      <td>446.000000</td>\n",
              "      <td>0.000000</td>\n",
              "      <td>3.000000</td>\n",
              "      <td>28.000000</td>\n",
              "      <td>0.000000</td>\n",
              "      <td>0.000000</td>\n",
              "      <td>14.454200</td>\n",
              "    </tr>\n",
              "    <tr>\n",
              "      <th>75%</th>\n",
              "      <td>668.500000</td>\n",
              "      <td>1.000000</td>\n",
              "      <td>3.000000</td>\n",
              "      <td>35.000000</td>\n",
              "      <td>1.000000</td>\n",
              "      <td>0.000000</td>\n",
              "      <td>31.000000</td>\n",
              "    </tr>\n",
              "    <tr>\n",
              "      <th>max</th>\n",
              "      <td>891.000000</td>\n",
              "      <td>1.000000</td>\n",
              "      <td>3.000000</td>\n",
              "      <td>80.000000</td>\n",
              "      <td>8.000000</td>\n",
              "      <td>6.000000</td>\n",
              "      <td>512.329200</td>\n",
              "    </tr>\n",
              "  </tbody>\n",
              "</table>\n",
              "</div>"
            ],
            "text/plain": [
              "       PassengerId    Survived      Pclass         Age       SibSp  \\\n",
              "count   891.000000  891.000000  891.000000  891.000000  891.000000   \n",
              "mean    446.000000    0.383838    2.308642   29.361582    0.523008   \n",
              "std     257.353842    0.486592    0.836071   13.019697    1.102743   \n",
              "min       1.000000    0.000000    1.000000    0.420000    0.000000   \n",
              "25%     223.500000    0.000000    2.000000   22.000000    0.000000   \n",
              "50%     446.000000    0.000000    3.000000   28.000000    0.000000   \n",
              "75%     668.500000    1.000000    3.000000   35.000000    1.000000   \n",
              "max     891.000000    1.000000    3.000000   80.000000    8.000000   \n",
              "\n",
              "            Parch        Fare  \n",
              "count  891.000000  891.000000  \n",
              "mean     0.381594   32.204208  \n",
              "std      0.806057   49.693429  \n",
              "min      0.000000    0.000000  \n",
              "25%      0.000000    7.910400  \n",
              "50%      0.000000   14.454200  \n",
              "75%      0.000000   31.000000  \n",
              "max      6.000000  512.329200  "
            ]
          },
          "metadata": {
            "tags": []
          },
          "execution_count": 49
        }
      ]
    },
    {
      "cell_type": "markdown",
      "metadata": {
        "id": "4VZQoY23N08a"
      },
      "source": [
        "Perfeito.\n",
        "\n",
        "Agora vamos criar alguns gráficos.\n",
        "\n",
        "Vamos visualizar a sobrevivência em relação ao gênero. Para facilitar vamos criar a coluna \"Died\" que representa aqueles que morreram."
      ]
    },
    {
      "cell_type": "code",
      "metadata": {
        "id": "3-TJfL1DN3K1"
      },
      "source": [
        "data['Died'] = 1 - data['Survived']\n",
        "# data.head()"
      ],
      "execution_count": null,
      "outputs": []
    },
    {
      "cell_type": "markdown",
      "metadata": {
        "id": "Up9hP0CEODVI"
      },
      "source": [
        "Agora vamos criar um gráfico que mostra os dados agrupados por sexo e empilha as barras, de forma que mulheres e homens forme uma barra e parte da barra seja os que sobreviveram e parte seja os que morreram. Para melhorar a visualização vamos colorir os que morreram de vermelho e os que sobreviveram de verde."
      ]
    },
    {
      "cell_type": "code",
      "metadata": {
        "id": "RiT-DuwsOIDt",
        "colab": {
          "base_uri": "https://localhost:8080/",
          "height": 439
        },
        "outputId": "0696b673-c090-4dd9-dea4-66a34a3b73df"
      },
      "source": [
        "data.groupby('Sex').agg('sum')[['Survived', 'Died']].plot(kind='bar', figsize=(25, 7), stacked=True, color=['g', 'r'])"
      ],
      "execution_count": null,
      "outputs": [
        {
          "output_type": "execute_result",
          "data": {
            "text/plain": [
              "<matplotlib.axes._subplots.AxesSubplot at 0x7feb2fb5b358>"
            ]
          },
          "metadata": {
            "tags": []
          },
          "execution_count": 51
        },
        {
          "output_type": "display_data",
          "data": {
            "image/png": "[encoded data removed]",
            "text/plain": [
              "<Figure size 3750x1050 with 1 Axes>"
            ]
          },
          "metadata": {
            "tags": [],
            "needs_background": "light"
          }
        }
      ]
    },
    {
      "cell_type": "markdown",
      "metadata": {
        "id": "NW0QXDx6Ruaa"
      },
      "source": [
        "Bingo ! Parece que a variável sexo é uma feature discriminante. Mulheres tem mais chance de sobreviver.\n",
        "\n",
        "Agora vamos tentar achar uma correlação entre sobrevivência e idade.\n",
        "\n",
        "Nesse caso, utilizar um gráfico de violino pode ser mais interessante."
      ]
    },
    {
      "cell_type": "code",
      "metadata": {
        "id": "2CJj-fRDSnSZ",
        "colab": {
          "base_uri": "https://localhost:8080/",
          "height": 405
        },
        "outputId": "5e837d0b-1054-47a8-9fe7-2956a61643d9"
      },
      "source": [
        "fig = plt.figure(figsize=(25, 7))\n",
        "\n",
        "sns.violinplot(x='Sex', y='Age', hue='Survived', data=data, split=True, palette={0: 'r', 1: 'g'})"
      ],
      "execution_count": null,
      "outputs": [
        {
          "output_type": "execute_result",
          "data": {
            "text/plain": [
              "<matplotlib.axes._subplots.AxesSubplot at 0x7feb2fa9b780>"
            ]
          },
          "metadata": {
            "tags": []
          },
          "execution_count": 52
        },
        {
          "output_type": "display_data",
          "data": {
            "image/png": "[encoded data removed]",
            "text/plain": [
              "<Figure size 3750x1050 with 1 Axes>"
            ]
          },
          "metadata": {
            "tags": [],
            "needs_background": "light"
          }
        }
      ]
    },
    {
      "cell_type": "markdown",
      "metadata": {
        "id": "f7j2N2UTTfeI"
      },
      "source": [
        "Analise os gráfico acima e perceba:\n",
        "\n",
        "Mulheres sobrevivem mais que homens, como percebido pelo histograma verde feminino maior.\n",
        "Agora vamos analisar a idade:\n",
        "\n",
        "Para passageiros homens:\n",
        "Homens jovens tendem a sobreviver.\n",
        "Um grande número de passageiros entre 20 e 40 anos morreram.\n",
        "A idade não parece ter um impacto direto na sobrevivência de mulheres."
      ]
    },
    {
      "cell_type": "markdown",
      "metadata": {
        "id": "nIDGhh6JTlRL"
      },
      "source": [
        "Esse gráfico de violina confirma um velho código de conduta de marinheiros e capitães em situações do tipo **\"Mulheres e crianças primeiro!\"**"
      ]
    },
    {
      "cell_type": "markdown",
      "metadata": {
        "id": "3z8hCpTdT5dH"
      },
      "source": [
        "Agora vamos focar na tarifa do ticket de cada passageiro e ver como ele impacta na sobrevivência."
      ]
    },
    {
      "cell_type": "code",
      "metadata": {
        "id": "045k_RquT6bn",
        "colab": {
          "base_uri": "https://localhost:8080/",
          "height": 404
        },
        "outputId": "934cd20b-0e01-4530-bb15-69060896cc50"
      },
      "source": [
        "figure = plt.figure(figsize=(25, 7))\n",
        "\n",
        "plt.hist([data[data['Survived'] == 1]['Fare'], data[data['Survived'] == 0]['Fare']],\n",
        "          stacked=True, color = ['g', 'r'], bins = 50, label = ['Survived', 'Dead']\n",
        "        )\n",
        "\n",
        "plt.xlabel('Fare')\n",
        "plt.ylabel('Number of passengers')\n",
        "plt.legend()"
      ],
      "execution_count": null,
      "outputs": [
        {
          "output_type": "execute_result",
          "data": {
            "text/plain": [
              "<matplotlib.legend.Legend at 0x7feb2f817160>"
            ]
          },
          "metadata": {
            "tags": []
          },
          "execution_count": 53
        },
        {
          "output_type": "display_data",
          "data": {
            "image/png": "[encoded data removed]",
            "text/plain": [
              "<Figure size 3750x1050 with 1 Axes>"
            ]
          },
          "metadata": {
            "tags": [],
            "needs_background": "light"
          }
        }
      ]
    },
    {
      "cell_type": "markdown",
      "metadata": {
        "id": "g_h7hk6cXLoK"
      },
      "source": [
        "Passageiros com tickets mais baratos tem mais chance de morrer. Colocado de outra forma, passageiros com tickets mais caros e com maior status social, parecm ser resgatados primeiro."
      ]
    },
    {
      "cell_type": "markdown",
      "metadata": {
        "id": "axSOmfegXPDB"
      },
      "source": [
        "Legal ! Agora vamos combinar a idade, a tarifa e a sobrevivência em um único gráfico."
      ]
    },
    {
      "cell_type": "code",
      "metadata": {
        "id": "dpQi-rhlWuCh",
        "colab": {
          "base_uri": "https://localhost:8080/",
          "height": 394
        },
        "outputId": "9f7ed14a-3632-400d-c8cb-1c1635ad5849"
      },
      "source": [
        "plt.figure(figsize=(25, 7))\n",
        "ax = plt.subplot()\n",
        "\n",
        "ax.scatter(data[data['Survived'] == 1]['Age'], data[data['Survived'] == 1]['Fare'], c='green', s=data[data['Survived'] == 1]['Fare'])\n",
        "ax.scatter(data[data['Survived'] == 0]['Age'], data[data['Survived'] == 0]['Fare'], c='red', s=data[data['Survived'] == 0]['Fare'])"
      ],
      "execution_count": null,
      "outputs": [
        {
          "output_type": "execute_result",
          "data": {
            "text/plain": [
              "<matplotlib.collections.PathCollection at 0x7feb2f6bb0f0>"
            ]
          },
          "metadata": {
            "tags": []
          },
          "execution_count": 54
        },
        {
          "output_type": "display_data",
          "data": {
            "image/png": "[encoded data removed]",
            "text/plain": [
              "<Figure size 3750x1050 with 1 Axes>"
            ]
          },
          "metadata": {
            "tags": [],
            "needs_background": "light"
          }
        }
      ]
    },
    {
      "cell_type": "markdown",
      "metadata": {
        "id": "Qfbwp-mUYBwG"
      },
      "source": [
        "O tamanho dos círculos é proporcional à tarifa da passagem.\n",
        "\n",
        "No eixo x, temos as idades e no eixo y, consideramos a tarifa da passagem.\n",
        "\n",
        "Podemos observar diferentes clusters:\n",
        "\n",
        "  1. Grandes pontos verdes entre x = 20 e x = 45: adultos com as maiores tarifas\n",
        "  2. Pequenos pontos vermelhos entre x = 10 e x = 45, adultos de classes mais baixas no barco\n",
        "  3. Pequenos pontos de ganância entre x = 0 e x = 7: essas são as crianças que foram salvas"
      ]
    },
    {
      "cell_type": "markdown",
      "metadata": {
        "id": "cHSC1MXCYPYx"
      },
      "source": [
        "Na verdade, a tarifa do bilhete se correlaciona com a classe, como vemos no gráfico abaixo."
      ]
    },
    {
      "cell_type": "code",
      "metadata": {
        "id": "6xB0gUdcYSFI",
        "colab": {
          "base_uri": "https://localhost:8080/",
          "height": 401
        },
        "outputId": "caed4529-0507-4183-837f-a05a78582463"
      },
      "source": [
        "ax = plt.subplot()\n",
        "\n",
        "ax.set_ylabel('Average fare')\n",
        "data.groupby('Pclass').mean()['Fare'].plot(kind='bar', figsize=(25, 7), ax = ax)"
      ],
      "execution_count": null,
      "outputs": [
        {
          "output_type": "execute_result",
          "data": {
            "text/plain": [
              "<matplotlib.axes._subplots.AxesSubplot at 0x7feb2f6cdef0>"
            ]
          },
          "metadata": {
            "tags": []
          },
          "execution_count": 55
        },
        {
          "output_type": "display_data",
          "data": {
            "image/png": "[encoded data removed]",
            "text/plain": [
              "<Figure size 3750x1050 with 1 Axes>"
            ]
          },
          "metadata": {
            "tags": [],
            "needs_background": "light"
          }
        }
      ]
    },
    {
      "cell_type": "markdown",
      "metadata": {
        "id": "OdQ5_JQWYw9Y"
      },
      "source": [
        "Vamos ver como o porto de embarque afeta a sobrevivência."
      ]
    },
    {
      "cell_type": "code",
      "metadata": {
        "id": "_ZUAdMyMY1i1",
        "colab": {
          "base_uri": "https://localhost:8080/",
          "height": 401
        },
        "outputId": "332f9ceb-7bb5-4a65-c69f-67c775358630"
      },
      "source": [
        "fig = plt.figure(figsize=(25, 7))\n",
        "\n",
        "sns.violinplot(x='Embarked', y='Fare', hue='Survived', data=data, split=True, palette={0: 'r', 1: 'g'})"
      ],
      "execution_count": null,
      "outputs": [
        {
          "output_type": "execute_result",
          "data": {
            "text/plain": [
              "<matplotlib.axes._subplots.AxesSubplot at 0x7feb2f6f9f28>"
            ]
          },
          "metadata": {
            "tags": []
          },
          "execution_count": 56
        },
        {
          "output_type": "display_data",
          "data": {
            "image/png": "[encoded data removed]",
            "text/plain": [
              "<Figure size 3750x1050 with 1 Axes>"
            ]
          },
          "metadata": {
            "tags": [],
            "needs_background": "light"
          }
        }
      ]
    },
    {
      "cell_type": "markdown",
      "metadata": {
        "id": "WqR1GY9paZZJ"
      },
      "source": [
        "Parece que o embarque em C tem uma gama maior de passagens e, portanto, os passageiros que pagam os preços mais altos são os que sobrevivem.\n",
        "\n",
        "Também vemos isso acontecendo na embarcação S e menos na embarque Q.\n",
        "\n",
        "Agora vamos parar com a exploração de dados e passar para a próxima parte."
      ]
    },
    {
      "cell_type": "markdown",
      "metadata": {
        "id": "zwozzz19alEs"
      },
      "source": [
        "# II - Feature engineering"
      ]
    },
    {
      "cell_type": "markdown",
      "metadata": {
        "id": "33fCUUzgao_r"
      },
      "source": [
        "Na parte anterior, nós exploramos um pouco os dados e descobrimos algumas correlações interessantes.\n",
        "\n",
        "Nessa parte, veremos como processar e transformar essas correlações de forma que elas se tornem dados que podem ser manipulados por um algoritmo de machine learning.\n",
        "\n",
        "Também criaremos ou \"projetaremos\" recursos adicionais que serão úteis na construção do modelo.\n",
        "\n",
        "Veremos ao longo do caminho como processar variáveis ​​de texto como os nomes dos passageiros e integrar essas informações em nosso modelo.\n",
        "\n",
        "Vamos dividir nosso código em funções separadas para maior clareza.\n",
        "\n",
        "Mas primeiro, vamos definir uma função de print que afirma se um recurso foi ou não processado."
      ]
    },
    {
      "cell_type": "code",
      "metadata": {
        "id": "4KowPJTCbjBH"
      },
      "source": [
        "def status(feature):\n",
        "    print('Processing', feature, ': ok')"
      ],
      "execution_count": null,
      "outputs": []
    },
    {
      "cell_type": "markdown",
      "metadata": {
        "id": "IA_fGJktbox2"
      },
      "source": [
        "### Carregando os dados\n",
        "\n",
        "Um truque ao iniciar um problema de machine learning é anexar o conjunto de treinamento ao conjunto de teste.\n",
        "\n",
        "Vamos projetar novos recursos usando o conjunto de treino para evitar falha de informações. Em seguida, adicionaremos essas variáveis ​​ao conjunto de teste.\n",
        "\n",
        "Vamos carregar os sets de treinamento e de testes e anexá-los juntos."
      ]
    },
    {
      "cell_type": "code",
      "metadata": {
        "id": "BDzul6k5buKI"
      },
      "source": [
        "def get_combined_data():\n",
        "    # reading train data\n",
        "    train = pd.read_csv(io.BytesIO(uploaded['train.csv']))\n",
        "    \n",
        "    # reading test data\n",
        "    test = pd.read_csv(io.BytesIO(uploaded['test.csv']))\n",
        "\n",
        "    # extracting and then removing the targets from the training data \n",
        "    targets = train.Survived\n",
        "    train.drop(['Survived'], 1, inplace=True)\n",
        "    \n",
        "\n",
        "    # merging train data and test data for future feature engineering\n",
        "    # we'll also remove the PassengerID since this is not an informative feature\n",
        "    combined = train.append(test)\n",
        "    combined.reset_index(inplace=True)\n",
        "    combined.drop(['index', 'PassengerId'], inplace=True, axis=1)\n",
        "    \n",
        "    return combined"
      ],
      "execution_count": null,
      "outputs": []
    },
    {
      "cell_type": "code",
      "metadata": {
        "id": "T-D0AUhbbw54"
      },
      "source": [
        "combined = get_combined_data()"
      ],
      "execution_count": null,
      "outputs": []
    },
    {
      "cell_type": "markdown",
      "metadata": {
        "id": "4iBb6jFKcBm5"
      },
      "source": [
        "Vamos dar uma olhada no shape dos dados:"
      ]
    },
    {
      "cell_type": "code",
      "metadata": {
        "id": "3nrID08Xb9-j",
        "colab": {
          "base_uri": "https://localhost:8080/"
        },
        "outputId": "10cdc27d-baaa-439d-86bd-4ecc449a0b1c"
      },
      "source": [
        "print(combined.shape)"
      ],
      "execution_count": null,
      "outputs": [
        {
          "output_type": "stream",
          "text": [
            "(1309, 10)\n"
          ],
          "name": "stdout"
        }
      ]
    },
    {
      "cell_type": "markdown",
      "metadata": {
        "id": "a61PhiI6cEAC"
      },
      "source": [
        "Os sets de treinamento e de testes foram combinados.\n",
        "\n",
        "Você perceberá que o total de linhas (1309) é exatamente a somatória do número de linhas do set de treinamento com o set de testes."
      ]
    },
    {
      "cell_type": "code",
      "metadata": {
        "id": "Ftk5jfrscFS9",
        "colab": {
          "base_uri": "https://localhost:8080/",
          "height": 204
        },
        "outputId": "b1731091-bd3c-4806-fed5-e36834ea26ed"
      },
      "source": [
        "combined.head()"
      ],
      "execution_count": null,
      "outputs": [
        {
          "output_type": "execute_result",
          "data": {
            "text/html": [
              "<div>\n",
              "<style scoped>\n",
              "    .dataframe tbody tr th:only-of-type {\n",
              "        vertical-align: middle;\n",
              "    }\n",
              "\n",
              "    .dataframe tbody tr th {\n",
              "        vertical-align: top;\n",
              "    }\n",
              "\n",
              "    .dataframe thead th {\n",
              "        text-align: right;\n",
              "    }\n",
              "</style>\n",
              "<table border=\"1\" class=\"dataframe\">\n",
              "  <thead>\n",
              "    <tr style=\"text-align: right;\">\n",
              "      <th></th>\n",
              "      <th>Pclass</th>\n",
              "      <th>Name</th>\n",
              "      <th>Sex</th>\n",
              "      <th>Age</th>\n",
              "      <th>SibSp</th>\n",
              "      <th>Parch</th>\n",
              "      <th>Ticket</th>\n",
              "      <th>Fare</th>\n",
              "      <th>Cabin</th>\n",
              "      <th>Embarked</th>\n",
              "    </tr>\n",
              "  </thead>\n",
              "  <tbody>\n",
              "    <tr>\n",
              "      <th>0</th>\n",
              "      <td>3</td>\n",
              "      <td>Braund, Mr. Owen Harris</td>\n",
              "      <td>male</td>\n",
              "      <td>22.0</td>\n",
              "      <td>1</td>\n",
              "      <td>0</td>\n",
              "      <td>A/5 21171</td>\n",
              "      <td>7.2500</td>\n",
              "      <td>NaN</td>\n",
              "      <td>S</td>\n",
              "    </tr>\n",
              "    <tr>\n",
              "      <th>1</th>\n",
              "      <td>1</td>\n",
              "      <td>Cumings, Mrs. John Bradley (Florence Briggs Th...</td>\n",
              "      <td>female</td>\n",
              "      <td>38.0</td>\n",
              "      <td>1</td>\n",
              "      <td>0</td>\n",
              "      <td>PC 17599</td>\n",
              "      <td>71.2833</td>\n",
              "      <td>C85</td>\n",
              "      <td>C</td>\n",
              "    </tr>\n",
              "    <tr>\n",
              "      <th>2</th>\n",
              "      <td>3</td>\n",
              "      <td>Heikkinen, Miss. Laina</td>\n",
              "      <td>female</td>\n",
              "      <td>26.0</td>\n",
              "      <td>0</td>\n",
              "      <td>0</td>\n",
              "      <td>STON/O2. 3101282</td>\n",
              "      <td>7.9250</td>\n",
              "      <td>NaN</td>\n",
              "      <td>S</td>\n",
              "    </tr>\n",
              "    <tr>\n",
              "      <th>3</th>\n",
              "      <td>1</td>\n",
              "      <td>Futrelle, Mrs. Jacques Heath (Lily May Peel)</td>\n",
              "      <td>female</td>\n",
              "      <td>35.0</td>\n",
              "      <td>1</td>\n",
              "      <td>0</td>\n",
              "      <td>113803</td>\n",
              "      <td>53.1000</td>\n",
              "      <td>C123</td>\n",
              "      <td>S</td>\n",
              "    </tr>\n",
              "    <tr>\n",
              "      <th>4</th>\n",
              "      <td>3</td>\n",
              "      <td>Allen, Mr. William Henry</td>\n",
              "      <td>male</td>\n",
              "      <td>35.0</td>\n",
              "      <td>0</td>\n",
              "      <td>0</td>\n",
              "      <td>373450</td>\n",
              "      <td>8.0500</td>\n",
              "      <td>NaN</td>\n",
              "      <td>S</td>\n",
              "    </tr>\n",
              "  </tbody>\n",
              "</table>\n",
              "</div>"
            ],
            "text/plain": [
              "   Pclass                                               Name     Sex   Age  \\\n",
              "0       3                            Braund, Mr. Owen Harris    male  22.0   \n",
              "1       1  Cumings, Mrs. John Bradley (Florence Briggs Th...  female  38.0   \n",
              "2       3                             Heikkinen, Miss. Laina  female  26.0   \n",
              "3       1       Futrelle, Mrs. Jacques Heath (Lily May Peel)  female  35.0   \n",
              "4       3                           Allen, Mr. William Henry    male  35.0   \n",
              "\n",
              "   SibSp  Parch            Ticket     Fare Cabin Embarked  \n",
              "0      1      0         A/5 21171   7.2500   NaN        S  \n",
              "1      1      0          PC 17599  71.2833   C85        C  \n",
              "2      0      0  STON/O2. 3101282   7.9250   NaN        S  \n",
              "3      1      0            113803  53.1000  C123        S  \n",
              "4      0      0            373450   8.0500   NaN        S  "
            ]
          },
          "metadata": {
            "tags": []
          },
          "execution_count": 61
        }
      ]
    },
    {
      "cell_type": "markdown",
      "metadata": {
        "id": "jkSR9850dcjq"
      },
      "source": [
        "### Extraíndo os títulos dos passageiros (Titles)\n",
        "\n",
        "Ao olhar para os nomes dos passageiros, pode-se imaginar como processá-los para extrair informações úteis.\n",
        "\n",
        "Se você olhar atentamente para estes primeiros exemplos:\n",
        "\n",
        "* Braund,** Mr. Owen** Harris\n",
        "* Heikkinen, **Miss.** Laina\n",
        "* Oliva y Ocana, **Dona.** Fermina\n",
        "* Peter, **Master.** Michael J\n",
        "\n",
        "Você notará que cada nome tem um título! Pode ser uma simples senhorita ou senhora, mas às vezes pode ser algo mais sofisticado como Mestre, Senhor ou Dona. Nesse caso, podemos apresentar uma informação adicional sobre o status social simplesmente analisando o nome e extraindo o título e convertendo em uma variável binária.\n",
        "\n",
        "Vamos ver como faremos isso na função abaixo.\n"
      ]
    },
    {
      "cell_type": "markdown",
      "metadata": {
        "id": "EwQCISRtdxb5"
      },
      "source": [
        "Vamos ver quais são os diferentes títulos no conjunto de treino."
      ]
    },
    {
      "cell_type": "code",
      "metadata": {
        "id": "OPLzeV5zdyeI"
      },
      "source": [
        "titles = set()\n",
        "\n",
        "for name in data['Name']:\n",
        "  titles.add(name.split(',')[1].split('.')[0].strip())"
      ],
      "execution_count": null,
      "outputs": []
    },
    {
      "cell_type": "code",
      "metadata": {
        "id": "2J8g1W16dyjJ",
        "colab": {
          "base_uri": "https://localhost:8080/"
        },
        "outputId": "0e037df9-1a1b-430f-ea88-ffb164fabcff"
      },
      "source": [
        "print(titles)"
      ],
      "execution_count": null,
      "outputs": [
        {
          "output_type": "stream",
          "text": [
            "{'Master', 'Don', 'Miss', 'Dr', 'Jonkheer', 'Rev', 'Mme', 'Col', 'Ms', 'Major', 'Lady', 'Mrs', 'Mr', 'Sir', 'Capt', 'Mlle', 'the Countess'}\n"
          ],
          "name": "stdout"
        }
      ]
    },
    {
      "cell_type": "code",
      "metadata": {
        "id": "eAfL_1PUeTaf"
      },
      "source": [
        "Title_Dictionary = {\n",
        "    \"Capt\": \"Officer\",\n",
        "    \"Col\": \"Officer\",\n",
        "    \"Major\": \"Officer\",\n",
        "    \"Jonkheer\": \"Royalty\",\n",
        "    \"Don\": \"Royalty\",\n",
        "    \"Sir\" : \"Royalty\",\n",
        "    \"Dr\": \"Officer\",\n",
        "    \"Rev\": \"Officer\",\n",
        "    \"the Countess\":\"Royalty\",\n",
        "    \"Mme\": \"Mrs\",\n",
        "    \"Mlle\": \"Miss\",\n",
        "    \"Ms\": \"Mrs\",\n",
        "    \"Mr\" : \"Mr\",\n",
        "    \"Mrs\" : \"Mrs\",\n",
        "    \"Miss\" : \"Miss\",\n",
        "    \"Master\" : \"Master\",\n",
        "    \"Lady\" : \"Royalty\"\n",
        "}\n",
        "\n",
        "def get_titles():\n",
        "  combined['Title'] = combined['Name'].map(lambda name: name.split(',')[1].split('.')[0].strip())\n",
        "\n",
        "  combined['Title'] = combined.Title.map(Title_Dictionary)\n",
        "  status('Title')\n",
        "  \n",
        "  return combined"
      ],
      "execution_count": null,
      "outputs": []
    },
    {
      "cell_type": "markdown",
      "metadata": {
        "id": "BbLLoKpDe_P0"
      },
      "source": [
        "Esta função analisa os nomes e extrai os títulos. Em seguida, ele mapeia os títulos para categorias de títulos. Selecionamos:\n",
        "\n",
        "* Officer\n",
        "* Royalty\n",
        "* Mr\n",
        "* Mrs\n",
        "* Miss\n",
        "* Master\n",
        "\n",
        "Vamos rodar."
      ]
    },
    {
      "cell_type": "code",
      "metadata": {
        "id": "V2pQiOq1fG9R",
        "colab": {
          "base_uri": "https://localhost:8080/"
        },
        "outputId": "274a44a3-804b-4920-b547-38f996964358"
      },
      "source": [
        "combined = get_titles()"
      ],
      "execution_count": null,
      "outputs": [
        {
          "output_type": "stream",
          "text": [
            "Processing Title : ok\n"
          ],
          "name": "stdout"
        }
      ]
    },
    {
      "cell_type": "code",
      "metadata": {
        "id": "f_ZHvLAYfLmF",
        "colab": {
          "base_uri": "https://localhost:8080/",
          "height": 204
        },
        "outputId": "16b6e35b-430b-45de-90aa-ac18c9b70344"
      },
      "source": [
        "combined.head()"
      ],
      "execution_count": null,
      "outputs": [
        {
          "output_type": "execute_result",
          "data": {
            "text/html": [
              "<div>\n",
              "<style scoped>\n",
              "    .dataframe tbody tr th:only-of-type {\n",
              "        vertical-align: middle;\n",
              "    }\n",
              "\n",
              "    .dataframe tbody tr th {\n",
              "        vertical-align: top;\n",
              "    }\n",
              "\n",
              "    .dataframe thead th {\n",
              "        text-align: right;\n",
              "    }\n",
              "</style>\n",
              "<table border=\"1\" class=\"dataframe\">\n",
              "  <thead>\n",
              "    <tr style=\"text-align: right;\">\n",
              "      <th></th>\n",
              "      <th>Pclass</th>\n",
              "      <th>Name</th>\n",
              "      <th>Sex</th>\n",
              "      <th>Age</th>\n",
              "      <th>SibSp</th>\n",
              "      <th>Parch</th>\n",
              "      <th>Ticket</th>\n",
              "      <th>Fare</th>\n",
              "      <th>Cabin</th>\n",
              "      <th>Embarked</th>\n",
              "      <th>Title</th>\n",
              "    </tr>\n",
              "  </thead>\n",
              "  <tbody>\n",
              "    <tr>\n",
              "      <th>0</th>\n",
              "      <td>3</td>\n",
              "      <td>Braund, Mr. Owen Harris</td>\n",
              "      <td>male</td>\n",
              "      <td>22.0</td>\n",
              "      <td>1</td>\n",
              "      <td>0</td>\n",
              "      <td>A/5 21171</td>\n",
              "      <td>7.2500</td>\n",
              "      <td>NaN</td>\n",
              "      <td>S</td>\n",
              "      <td>Mr</td>\n",
              "    </tr>\n",
              "    <tr>\n",
              "      <th>1</th>\n",
              "      <td>1</td>\n",
              "      <td>Cumings, Mrs. John Bradley (Florence Briggs Th...</td>\n",
              "      <td>female</td>\n",
              "      <td>38.0</td>\n",
              "      <td>1</td>\n",
              "      <td>0</td>\n",
              "      <td>PC 17599</td>\n",
              "      <td>71.2833</td>\n",
              "      <td>C85</td>\n",
              "      <td>C</td>\n",
              "      <td>Mrs</td>\n",
              "    </tr>\n",
              "    <tr>\n",
              "      <th>2</th>\n",
              "      <td>3</td>\n",
              "      <td>Heikkinen, Miss. Laina</td>\n",
              "      <td>female</td>\n",
              "      <td>26.0</td>\n",
              "      <td>0</td>\n",
              "      <td>0</td>\n",
              "      <td>STON/O2. 3101282</td>\n",
              "      <td>7.9250</td>\n",
              "      <td>NaN</td>\n",
              "      <td>S</td>\n",
              "      <td>Miss</td>\n",
              "    </tr>\n",
              "    <tr>\n",
              "      <th>3</th>\n",
              "      <td>1</td>\n",
              "      <td>Futrelle, Mrs. Jacques Heath (Lily May Peel)</td>\n",
              "      <td>female</td>\n",
              "      <td>35.0</td>\n",
              "      <td>1</td>\n",
              "      <td>0</td>\n",
              "      <td>113803</td>\n",
              "      <td>53.1000</td>\n",
              "      <td>C123</td>\n",
              "      <td>S</td>\n",
              "      <td>Mrs</td>\n",
              "    </tr>\n",
              "    <tr>\n",
              "      <th>4</th>\n",
              "      <td>3</td>\n",
              "      <td>Allen, Mr. William Henry</td>\n",
              "      <td>male</td>\n",
              "      <td>35.0</td>\n",
              "      <td>0</td>\n",
              "      <td>0</td>\n",
              "      <td>373450</td>\n",
              "      <td>8.0500</td>\n",
              "      <td>NaN</td>\n",
              "      <td>S</td>\n",
              "      <td>Mr</td>\n",
              "    </tr>\n",
              "  </tbody>\n",
              "</table>\n",
              "</div>"
            ],
            "text/plain": [
              "   Pclass                                               Name     Sex   Age  \\\n",
              "0       3                            Braund, Mr. Owen Harris    male  22.0   \n",
              "1       1  Cumings, Mrs. John Bradley (Florence Briggs Th...  female  38.0   \n",
              "2       3                             Heikkinen, Miss. Laina  female  26.0   \n",
              "3       1       Futrelle, Mrs. Jacques Heath (Lily May Peel)  female  35.0   \n",
              "4       3                           Allen, Mr. William Henry    male  35.0   \n",
              "\n",
              "   SibSp  Parch            Ticket     Fare Cabin Embarked Title  \n",
              "0      1      0         A/5 21171   7.2500   NaN        S    Mr  \n",
              "1      1      0          PC 17599  71.2833   C85        C   Mrs  \n",
              "2      0      0  STON/O2. 3101282   7.9250   NaN        S  Miss  \n",
              "3      1      0            113803  53.1000  C123        S   Mrs  \n",
              "4      0      0            373450   8.0500   NaN        S    Mr  "
            ]
          },
          "metadata": {
            "tags": []
          },
          "execution_count": 66
        }
      ]
    },
    {
      "cell_type": "markdown",
      "metadata": {
        "id": "ne4sIEnPfWB0"
      },
      "source": [
        "Vamos checar se todos os títulos foram preenchidos corretamente."
      ]
    },
    {
      "cell_type": "code",
      "metadata": {
        "id": "mVvODX5hfWwe",
        "colab": {
          "base_uri": "https://localhost:8080/",
          "height": 80
        },
        "outputId": "a8586cf7-b064-40f0-b7a4-850772389b74"
      },
      "source": [
        "combined[combined['Title'].isnull()]"
      ],
      "execution_count": null,
      "outputs": [
        {
          "output_type": "execute_result",
          "data": {
            "text/html": [
              "<div>\n",
              "<style scoped>\n",
              "    .dataframe tbody tr th:only-of-type {\n",
              "        vertical-align: middle;\n",
              "    }\n",
              "\n",
              "    .dataframe tbody tr th {\n",
              "        vertical-align: top;\n",
              "    }\n",
              "\n",
              "    .dataframe thead th {\n",
              "        text-align: right;\n",
              "    }\n",
              "</style>\n",
              "<table border=\"1\" class=\"dataframe\">\n",
              "  <thead>\n",
              "    <tr style=\"text-align: right;\">\n",
              "      <th></th>\n",
              "      <th>Pclass</th>\n",
              "      <th>Name</th>\n",
              "      <th>Sex</th>\n",
              "      <th>Age</th>\n",
              "      <th>SibSp</th>\n",
              "      <th>Parch</th>\n",
              "      <th>Ticket</th>\n",
              "      <th>Fare</th>\n",
              "      <th>Cabin</th>\n",
              "      <th>Embarked</th>\n",
              "      <th>Title</th>\n",
              "    </tr>\n",
              "  </thead>\n",
              "  <tbody>\n",
              "    <tr>\n",
              "      <th>1305</th>\n",
              "      <td>1</td>\n",
              "      <td>Oliva y Ocana, Dona. Fermina</td>\n",
              "      <td>female</td>\n",
              "      <td>39.0</td>\n",
              "      <td>0</td>\n",
              "      <td>0</td>\n",
              "      <td>PC 17758</td>\n",
              "      <td>108.9</td>\n",
              "      <td>C105</td>\n",
              "      <td>C</td>\n",
              "      <td>NaN</td>\n",
              "    </tr>\n",
              "  </tbody>\n",
              "</table>\n",
              "</div>"
            ],
            "text/plain": [
              "      Pclass                          Name     Sex   Age  SibSp  Parch  \\\n",
              "1305       1  Oliva y Ocana, Dona. Fermina  female  39.0      0      0   \n",
              "\n",
              "        Ticket   Fare Cabin Embarked Title  \n",
              "1305  PC 17758  108.9  C105        C   NaN  "
            ]
          },
          "metadata": {
            "tags": []
          },
          "execution_count": 67
        }
      ]
    },
    {
      "cell_type": "markdown",
      "metadata": {
        "id": "Xq1BdK-zfixe"
      },
      "source": [
        "De fato, há um valor NaN na linha 1305. Na verdade, o nome correspondente é Oliva y Ocana, Dona. Fermina.\n",
        "\n",
        "Este título não foi encontrado no conjunto de dados de treino."
      ]
    },
    {
      "cell_type": "markdown",
      "metadata": {
        "id": "z2EB_C2sflII"
      },
      "source": [
        "Perfeito. Agora temos uma coluna adicional chamada 'Title' que contém informação relevante."
      ]
    },
    {
      "cell_type": "markdown",
      "metadata": {
        "id": "UhNmPfBdThAa"
      },
      "source": [
        "### Processando as idades (Age)\n",
        "\n",
        "Vimos na primeira parte que faltavam 177 valores na variável Idade. Este é um número grande (~ 13% do conjunto de dados). Simplesmente substituí-los pela média ou mediana de idade pode não ser a melhor solução, pois a idade pode diferir por grupos e categorias de passageiros.\n",
        "\n",
        "Para entender por que, vamos agrupar nosso conjunto de dados por sexo, título e classe de passageiro e, para cada subconjunto, calcular a idade média.\n",
        "\n",
        "Para evitar o vazamento de dados do conjunto de teste, preenchemos as idades ausentes no trem usando o conjunto de trem e preenchemos as idades no conjunto de teste usando valores calculados também do conjunto de treino.\n"
      ]
    },
    {
      "cell_type": "markdown",
      "metadata": {
        "id": "ug1j_SVoTpUj"
      },
      "source": [
        "Número de idades ausentes no conjunto de treino"
      ]
    },
    {
      "cell_type": "code",
      "metadata": {
        "id": "p5EgJ6LhTsK7",
        "colab": {
          "base_uri": "https://localhost:8080/"
        },
        "outputId": "93693a6e-3fca-416f-aca0-9ad244e69c38"
      },
      "source": [
        "print(combined.iloc[:891].Age.isnull().sum())"
      ],
      "execution_count": null,
      "outputs": [
        {
          "output_type": "stream",
          "text": [
            "177\n"
          ],
          "name": "stdout"
        }
      ]
    },
    {
      "cell_type": "markdown",
      "metadata": {
        "id": "6oRkBCkUT6Jy"
      },
      "source": [
        "Número de idades ausentes no conjunto de teste"
      ]
    },
    {
      "cell_type": "code",
      "metadata": {
        "id": "byk_WpEKT6n9",
        "colab": {
          "base_uri": "https://localhost:8080/"
        },
        "outputId": "32bbb615-8079-4f0f-a759-27c4da59360d"
      },
      "source": [
        "print(combined.iloc[891:].Age.isnull().sum())"
      ],
      "execution_count": null,
      "outputs": [
        {
          "output_type": "stream",
          "text": [
            "86\n"
          ],
          "name": "stdout"
        }
      ]
    },
    {
      "cell_type": "code",
      "metadata": {
        "id": "m3UKT_WgWZKa"
      },
      "source": [
        "grouped_train = combined.iloc[:891].groupby(['Sex', 'Pclass', 'Title'])\n",
        "grouped_median_train = grouped_train.median()\n",
        "grouped_median_train = grouped_median_train.reset_index()[['Sex', 'Pclass', 'Title', 'Age']]"
      ],
      "execution_count": null,
      "outputs": []
    },
    {
      "cell_type": "code",
      "metadata": {
        "id": "J-vLJs3rWz-a",
        "colab": {
          "base_uri": "https://localhost:8080/",
          "height": 204
        },
        "outputId": "91d605d6-88e5-4b41-b781-e29792fd038a"
      },
      "source": [
        "grouped_median_train.head()"
      ],
      "execution_count": null,
      "outputs": [
        {
          "output_type": "execute_result",
          "data": {
            "text/html": [
              "<div>\n",
              "<style scoped>\n",
              "    .dataframe tbody tr th:only-of-type {\n",
              "        vertical-align: middle;\n",
              "    }\n",
              "\n",
              "    .dataframe tbody tr th {\n",
              "        vertical-align: top;\n",
              "    }\n",
              "\n",
              "    .dataframe thead th {\n",
              "        text-align: right;\n",
              "    }\n",
              "</style>\n",
              "<table border=\"1\" class=\"dataframe\">\n",
              "  <thead>\n",
              "    <tr style=\"text-align: right;\">\n",
              "      <th></th>\n",
              "      <th>Sex</th>\n",
              "      <th>Pclass</th>\n",
              "      <th>Title</th>\n",
              "      <th>Age</th>\n",
              "    </tr>\n",
              "  </thead>\n",
              "  <tbody>\n",
              "    <tr>\n",
              "      <th>0</th>\n",
              "      <td>female</td>\n",
              "      <td>1</td>\n",
              "      <td>Miss</td>\n",
              "      <td>30.0</td>\n",
              "    </tr>\n",
              "    <tr>\n",
              "      <th>1</th>\n",
              "      <td>female</td>\n",
              "      <td>1</td>\n",
              "      <td>Mrs</td>\n",
              "      <td>40.0</td>\n",
              "    </tr>\n",
              "    <tr>\n",
              "      <th>2</th>\n",
              "      <td>female</td>\n",
              "      <td>1</td>\n",
              "      <td>Officer</td>\n",
              "      <td>49.0</td>\n",
              "    </tr>\n",
              "    <tr>\n",
              "      <th>3</th>\n",
              "      <td>female</td>\n",
              "      <td>1</td>\n",
              "      <td>Royalty</td>\n",
              "      <td>40.5</td>\n",
              "    </tr>\n",
              "    <tr>\n",
              "      <th>4</th>\n",
              "      <td>female</td>\n",
              "      <td>2</td>\n",
              "      <td>Miss</td>\n",
              "      <td>24.0</td>\n",
              "    </tr>\n",
              "  </tbody>\n",
              "</table>\n",
              "</div>"
            ],
            "text/plain": [
              "      Sex  Pclass    Title   Age\n",
              "0  female       1     Miss  30.0\n",
              "1  female       1      Mrs  40.0\n",
              "2  female       1  Officer  49.0\n",
              "3  female       1  Royalty  40.5\n",
              "4  female       2     Miss  24.0"
            ]
          },
          "metadata": {
            "tags": []
          },
          "execution_count": 71
        }
      ]
    },
    {
      "cell_type": "markdown",
      "metadata": {
        "id": "EcEXhZo_W69b"
      },
      "source": [
        "Este dataframe nos ajudará a imputar valores de idade ausentes com base em critérios diferentes."
      ]
    },
    {
      "cell_type": "markdown",
      "metadata": {
        "id": "ZL3aoE2JXKVo"
      },
      "source": [
        "Observe a coluna de idade mediana e veja como esse valor pode ser diferente com base em Sex, Class e Title juntos.\n",
        "\n",
        "Por exemplo:\n",
        "\n",
        "* Se a passageira for mulher, da Pclass 1 e da realeza, a idade média é 40.5.\n",
        "* Se o passageiro for homem, da Pclass 3, com título de Sr., a idade média é 26.\n",
        "\n",
        "Vamos criar uma função que preencha a idade ausente em combinação com base nesses diferentes atributos."
      ]
    },
    {
      "cell_type": "code",
      "metadata": {
        "id": "AtCJVaSqXSVA"
      },
      "source": [
        "def fill_age(row):\n",
        "  condition = (\n",
        "    (grouped_median_train['Sex'] == row['Sex']) & \n",
        "    (grouped_median_train['Title'] == row['Title']) & \n",
        "    (grouped_median_train['Pclass'] == row['Pclass'])\n",
        "  )\n",
        "  return grouped_median_train[condition]['Age'].values[0]\n",
        "\n",
        "\n",
        "def process_age():\n",
        "  global combined\n",
        "  # lambda é um for que executa um if ternário \n",
        "  combined['Age'] = combined.apply(lambda row: fill_age(row) if np.isnan(row['Age']) else row['Age'], axis=1)\n",
        "  status('Age')\n",
        "  return combined"
      ],
      "execution_count": null,
      "outputs": []
    },
    {
      "cell_type": "code",
      "metadata": {
        "id": "FGTV9Sq1Xu2m",
        "colab": {
          "base_uri": "https://localhost:8080/"
        },
        "outputId": "2369adbc-ded2-4773-87a2-08919fd2a9df"
      },
      "source": [
        "combined = process_age()"
      ],
      "execution_count": null,
      "outputs": [
        {
          "output_type": "stream",
          "text": [
            "Processing Age : ok\n"
          ],
          "name": "stdout"
        }
      ]
    },
    {
      "cell_type": "markdown",
      "metadata": {
        "id": "nQ4eLpiFX1eT"
      },
      "source": [
        "Perfeito. As idades que faltam foram substituídas.\n",
        "\n",
        "No entanto, notamos um valor ausente em Fare, dois valores ausentes em Embarked e muitos valores ausentes em Cabin. Voltaremos a essas variáveis ​​mais tarde.\n",
        "\n",
        "Vamos agora processar os nomes."
      ]
    },
    {
      "cell_type": "code",
      "metadata": {
        "id": "9FX6sTjGX3AN"
      },
      "source": [
        "def process_names():\n",
        "    global combined\n",
        "    # we clean the Name variable\n",
        "    combined.drop('Name', axis=1, inplace=True)\n",
        "    \n",
        "    # encoding in dummy variable\n",
        "    titles_dummies = pd.get_dummies(combined['Title'], prefix='Title')\n",
        "    combined = pd.concat([combined, titles_dummies], axis=1)\n",
        "    \n",
        "    # removing the title variable\n",
        "    combined.drop('Title', axis=1, inplace=True)\n",
        "    \n",
        "    status('names')\n",
        "    return combined"
      ],
      "execution_count": null,
      "outputs": []
    },
    {
      "cell_type": "markdown",
      "metadata": {
        "id": "keQvEiKmX7Z8"
      },
      "source": [
        "Esta função elimina a coluna Nome, pois não a usaremos mais porque criamos uma coluna Title.\n",
        "\n",
        "Em seguida, codificamos os valores do título usando uma codificação dummy.\n",
        "\n",
        "Você pode aprender sobre codificação dummy e como fazê-lo facilmente no Pandas aqui."
      ]
    },
    {
      "cell_type": "code",
      "metadata": {
        "id": "nmFXREAVX-go",
        "colab": {
          "base_uri": "https://localhost:8080/"
        },
        "outputId": "1d3b6347-1a88-4e04-e68e-d66b8fd8e1d2"
      },
      "source": [
        "combined = process_names()"
      ],
      "execution_count": null,
      "outputs": [
        {
          "output_type": "stream",
          "text": [
            "Processing names : ok\n"
          ],
          "name": "stdout"
        }
      ]
    },
    {
      "cell_type": "code",
      "metadata": {
        "id": "AXB5sJN1YBND",
        "colab": {
          "base_uri": "https://localhost:8080/",
          "height": 204
        },
        "outputId": "739da2e1-be24-4fa5-9857-e03dbc33c12d"
      },
      "source": [
        "combined.head()"
      ],
      "execution_count": null,
      "outputs": [
        {
          "output_type": "execute_result",
          "data": {
            "text/html": [
              "<div>\n",
              "<style scoped>\n",
              "    .dataframe tbody tr th:only-of-type {\n",
              "        vertical-align: middle;\n",
              "    }\n",
              "\n",
              "    .dataframe tbody tr th {\n",
              "        vertical-align: top;\n",
              "    }\n",
              "\n",
              "    .dataframe thead th {\n",
              "        text-align: right;\n",
              "    }\n",
              "</style>\n",
              "<table border=\"1\" class=\"dataframe\">\n",
              "  <thead>\n",
              "    <tr style=\"text-align: right;\">\n",
              "      <th></th>\n",
              "      <th>Pclass</th>\n",
              "      <th>Sex</th>\n",
              "      <th>Age</th>\n",
              "      <th>SibSp</th>\n",
              "      <th>Parch</th>\n",
              "      <th>Ticket</th>\n",
              "      <th>Fare</th>\n",
              "      <th>Cabin</th>\n",
              "      <th>Embarked</th>\n",
              "      <th>Title_Master</th>\n",
              "      <th>Title_Miss</th>\n",
              "      <th>Title_Mr</th>\n",
              "      <th>Title_Mrs</th>\n",
              "      <th>Title_Officer</th>\n",
              "      <th>Title_Royalty</th>\n",
              "    </tr>\n",
              "  </thead>\n",
              "  <tbody>\n",
              "    <tr>\n",
              "      <th>0</th>\n",
              "      <td>3</td>\n",
              "      <td>male</td>\n",
              "      <td>22.0</td>\n",
              "      <td>1</td>\n",
              "      <td>0</td>\n",
              "      <td>A/5 21171</td>\n",
              "      <td>7.2500</td>\n",
              "      <td>NaN</td>\n",
              "      <td>S</td>\n",
              "      <td>0</td>\n",
              "      <td>0</td>\n",
              "      <td>1</td>\n",
              "      <td>0</td>\n",
              "      <td>0</td>\n",
              "      <td>0</td>\n",
              "    </tr>\n",
              "    <tr>\n",
              "      <th>1</th>\n",
              "      <td>1</td>\n",
              "      <td>female</td>\n",
              "      <td>38.0</td>\n",
              "      <td>1</td>\n",
              "      <td>0</td>\n",
              "      <td>PC 17599</td>\n",
              "      <td>71.2833</td>\n",
              "      <td>C85</td>\n",
              "      <td>C</td>\n",
              "      <td>0</td>\n",
              "      <td>0</td>\n",
              "      <td>0</td>\n",
              "      <td>1</td>\n",
              "      <td>0</td>\n",
              "      <td>0</td>\n",
              "    </tr>\n",
              "    <tr>\n",
              "      <th>2</th>\n",
              "      <td>3</td>\n",
              "      <td>female</td>\n",
              "      <td>26.0</td>\n",
              "      <td>0</td>\n",
              "      <td>0</td>\n",
              "      <td>STON/O2. 3101282</td>\n",
              "      <td>7.9250</td>\n",
              "      <td>NaN</td>\n",
              "      <td>S</td>\n",
              "      <td>0</td>\n",
              "      <td>1</td>\n",
              "      <td>0</td>\n",
              "      <td>0</td>\n",
              "      <td>0</td>\n",
              "      <td>0</td>\n",
              "    </tr>\n",
              "    <tr>\n",
              "      <th>3</th>\n",
              "      <td>1</td>\n",
              "      <td>female</td>\n",
              "      <td>35.0</td>\n",
              "      <td>1</td>\n",
              "      <td>0</td>\n",
              "      <td>113803</td>\n",
              "      <td>53.1000</td>\n",
              "      <td>C123</td>\n",
              "      <td>S</td>\n",
              "      <td>0</td>\n",
              "      <td>0</td>\n",
              "      <td>0</td>\n",
              "      <td>1</td>\n",
              "      <td>0</td>\n",
              "      <td>0</td>\n",
              "    </tr>\n",
              "    <tr>\n",
              "      <th>4</th>\n",
              "      <td>3</td>\n",
              "      <td>male</td>\n",
              "      <td>35.0</td>\n",
              "      <td>0</td>\n",
              "      <td>0</td>\n",
              "      <td>373450</td>\n",
              "      <td>8.0500</td>\n",
              "      <td>NaN</td>\n",
              "      <td>S</td>\n",
              "      <td>0</td>\n",
              "      <td>0</td>\n",
              "      <td>1</td>\n",
              "      <td>0</td>\n",
              "      <td>0</td>\n",
              "      <td>0</td>\n",
              "    </tr>\n",
              "  </tbody>\n",
              "</table>\n",
              "</div>"
            ],
            "text/plain": [
              "   Pclass     Sex   Age  SibSp  Parch            Ticket     Fare Cabin  \\\n",
              "0       3    male  22.0      1      0         A/5 21171   7.2500   NaN   \n",
              "1       1  female  38.0      1      0          PC 17599  71.2833   C85   \n",
              "2       3  female  26.0      0      0  STON/O2. 3101282   7.9250   NaN   \n",
              "3       1  female  35.0      1      0            113803  53.1000  C123   \n",
              "4       3    male  35.0      0      0            373450   8.0500   NaN   \n",
              "\n",
              "  Embarked  Title_Master  Title_Miss  Title_Mr  Title_Mrs  Title_Officer  \\\n",
              "0        S             0           0         1          0              0   \n",
              "1        C             0           0         0          1              0   \n",
              "2        S             0           1         0          0              0   \n",
              "3        S             0           0         0          1              0   \n",
              "4        S             0           0         1          0              0   \n",
              "\n",
              "   Title_Royalty  \n",
              "0              0  \n",
              "1              0  \n",
              "2              0  \n",
              "3              0  \n",
              "4              0  "
            ]
          },
          "metadata": {
            "tags": []
          },
          "execution_count": 76
        }
      ]
    },
    {
      "cell_type": "markdown",
      "metadata": {
        "id": "B7_Zkg3pYFrw"
      },
      "source": [
        "Como você pode ver :\n",
        "\n",
        "* não há mais um recurso de nome.\n",
        "* novas variáveis ​​(Title_X) apareceram. Esses recursos são binários.\n",
        "  * Por exemplo, Se Title_Mr = 1, o Título correspondente é Mr."
      ]
    },
    {
      "cell_type": "markdown",
      "metadata": {
        "id": "a9tfkxDJapRr"
      },
      "source": [
        "### Processando as tarifas (Fare)"
      ]
    },
    {
      "cell_type": "markdown",
      "metadata": {
        "id": "DhNb4sGNav8k"
      },
      "source": [
        "Vamos imputar o valor da tarifa ausente pela tarifa média calculada no conjunto de treino"
      ]
    },
    {
      "cell_type": "code",
      "metadata": {
        "id": "ZpvEOK92auqj"
      },
      "source": [
        "def process_fares():\n",
        "    global combined\n",
        "    # there's one missing fare value - replacing it with the mean.\n",
        "    combined.Fare.fillna(combined.iloc[:891].Fare.mean(), inplace=True)\n",
        "    status('fare')\n",
        "    return combined"
      ],
      "execution_count": null,
      "outputs": []
    },
    {
      "cell_type": "markdown",
      "metadata": {
        "id": "OnfSB4S0a1Df"
      },
      "source": [
        "Esta função simplesmente substitui um valor de tarifa ausente pela média"
      ]
    },
    {
      "cell_type": "code",
      "metadata": {
        "id": "AMJ-B-Hra1_X",
        "colab": {
          "base_uri": "https://localhost:8080/"
        },
        "outputId": "3a281727-12e3-40a9-b621-bb78dcf7bf9a"
      },
      "source": [
        "combined = process_fares()"
      ],
      "execution_count": null,
      "outputs": [
        {
          "output_type": "stream",
          "text": [
            "Processing fare : ok\n"
          ],
          "name": "stdout"
        }
      ]
    },
    {
      "cell_type": "markdown",
      "metadata": {
        "id": "kycGpJ7Fa6ud"
      },
      "source": [
        "### Processando os Embarques (Embarked)"
      ]
    },
    {
      "cell_type": "code",
      "metadata": {
        "id": "CQK8avwqa99x"
      },
      "source": [
        "def process_embarked():\n",
        "    global combined\n",
        "    # two missing embarked values - filling them with the most frequent one in the train  set(S)\n",
        "    combined.Embarked.fillna('S', inplace=True)\n",
        "    # dummy encoding \n",
        "    embarked_dummies = pd.get_dummies(combined['Embarked'], prefix='Embarked')\n",
        "    combined = pd.concat([combined, embarked_dummies], axis=1)\n",
        "    combined.drop('Embarked', axis=1, inplace=True)\n",
        "    status('embarked')\n",
        "    return combined"
      ],
      "execution_count": null,
      "outputs": []
    },
    {
      "cell_type": "markdown",
      "metadata": {
        "id": "TZfcgqOibAOZ"
      },
      "source": [
        "Esta função substitui os dois valores ausentes de Embarked pelo valor Embarked mais frequente."
      ]
    },
    {
      "cell_type": "code",
      "metadata": {
        "id": "zhlaetL3bBFg",
        "colab": {
          "base_uri": "https://localhost:8080/"
        },
        "outputId": "5b7b2eb2-6d93-4886-c6ac-b98932551055"
      },
      "source": [
        "combined = process_embarked()"
      ],
      "execution_count": null,
      "outputs": [
        {
          "output_type": "stream",
          "text": [
            "Processing embarked : ok\n"
          ],
          "name": "stdout"
        }
      ]
    },
    {
      "cell_type": "code",
      "metadata": {
        "id": "Ax_grVllbEKb",
        "colab": {
          "base_uri": "https://localhost:8080/",
          "height": 241
        },
        "outputId": "8a70664b-467b-46d6-9f4f-7951c1177500"
      },
      "source": [
        "combined.head()"
      ],
      "execution_count": null,
      "outputs": [
        {
          "output_type": "execute_result",
          "data": {
            "text/html": [
              "<div>\n",
              "<style scoped>\n",
              "    .dataframe tbody tr th:only-of-type {\n",
              "        vertical-align: middle;\n",
              "    }\n",
              "\n",
              "    .dataframe tbody tr th {\n",
              "        vertical-align: top;\n",
              "    }\n",
              "\n",
              "    .dataframe thead th {\n",
              "        text-align: right;\n",
              "    }\n",
              "</style>\n",
              "<table border=\"1\" class=\"dataframe\">\n",
              "  <thead>\n",
              "    <tr style=\"text-align: right;\">\n",
              "      <th></th>\n",
              "      <th>Pclass</th>\n",
              "      <th>Sex</th>\n",
              "      <th>Age</th>\n",
              "      <th>SibSp</th>\n",
              "      <th>Parch</th>\n",
              "      <th>Ticket</th>\n",
              "      <th>Fare</th>\n",
              "      <th>Cabin</th>\n",
              "      <th>Title_Master</th>\n",
              "      <th>Title_Miss</th>\n",
              "      <th>Title_Mr</th>\n",
              "      <th>Title_Mrs</th>\n",
              "      <th>Title_Officer</th>\n",
              "      <th>Title_Royalty</th>\n",
              "      <th>Embarked_C</th>\n",
              "      <th>Embarked_Q</th>\n",
              "      <th>Embarked_S</th>\n",
              "    </tr>\n",
              "  </thead>\n",
              "  <tbody>\n",
              "    <tr>\n",
              "      <th>0</th>\n",
              "      <td>3</td>\n",
              "      <td>male</td>\n",
              "      <td>22.0</td>\n",
              "      <td>1</td>\n",
              "      <td>0</td>\n",
              "      <td>A/5 21171</td>\n",
              "      <td>7.2500</td>\n",
              "      <td>NaN</td>\n",
              "      <td>0</td>\n",
              "      <td>0</td>\n",
              "      <td>1</td>\n",
              "      <td>0</td>\n",
              "      <td>0</td>\n",
              "      <td>0</td>\n",
              "      <td>0</td>\n",
              "      <td>0</td>\n",
              "      <td>1</td>\n",
              "    </tr>\n",
              "    <tr>\n",
              "      <th>1</th>\n",
              "      <td>1</td>\n",
              "      <td>female</td>\n",
              "      <td>38.0</td>\n",
              "      <td>1</td>\n",
              "      <td>0</td>\n",
              "      <td>PC 17599</td>\n",
              "      <td>71.2833</td>\n",
              "      <td>C85</td>\n",
              "      <td>0</td>\n",
              "      <td>0</td>\n",
              "      <td>0</td>\n",
              "      <td>1</td>\n",
              "      <td>0</td>\n",
              "      <td>0</td>\n",
              "      <td>1</td>\n",
              "      <td>0</td>\n",
              "      <td>0</td>\n",
              "    </tr>\n",
              "    <tr>\n",
              "      <th>2</th>\n",
              "      <td>3</td>\n",
              "      <td>female</td>\n",
              "      <td>26.0</td>\n",
              "      <td>0</td>\n",
              "      <td>0</td>\n",
              "      <td>STON/O2. 3101282</td>\n",
              "      <td>7.9250</td>\n",
              "      <td>NaN</td>\n",
              "      <td>0</td>\n",
              "      <td>1</td>\n",
              "      <td>0</td>\n",
              "      <td>0</td>\n",
              "      <td>0</td>\n",
              "      <td>0</td>\n",
              "      <td>0</td>\n",
              "      <td>0</td>\n",
              "      <td>1</td>\n",
              "    </tr>\n",
              "    <tr>\n",
              "      <th>3</th>\n",
              "      <td>1</td>\n",
              "      <td>female</td>\n",
              "      <td>35.0</td>\n",
              "      <td>1</td>\n",
              "      <td>0</td>\n",
              "      <td>113803</td>\n",
              "      <td>53.1000</td>\n",
              "      <td>C123</td>\n",
              "      <td>0</td>\n",
              "      <td>0</td>\n",
              "      <td>0</td>\n",
              "      <td>1</td>\n",
              "      <td>0</td>\n",
              "      <td>0</td>\n",
              "      <td>0</td>\n",
              "      <td>0</td>\n",
              "      <td>1</td>\n",
              "    </tr>\n",
              "    <tr>\n",
              "      <th>4</th>\n",
              "      <td>3</td>\n",
              "      <td>male</td>\n",
              "      <td>35.0</td>\n",
              "      <td>0</td>\n",
              "      <td>0</td>\n",
              "      <td>373450</td>\n",
              "      <td>8.0500</td>\n",
              "      <td>NaN</td>\n",
              "      <td>0</td>\n",
              "      <td>0</td>\n",
              "      <td>1</td>\n",
              "      <td>0</td>\n",
              "      <td>0</td>\n",
              "      <td>0</td>\n",
              "      <td>0</td>\n",
              "      <td>0</td>\n",
              "      <td>1</td>\n",
              "    </tr>\n",
              "  </tbody>\n",
              "</table>\n",
              "</div>"
            ],
            "text/plain": [
              "   Pclass     Sex   Age  SibSp  Parch            Ticket     Fare Cabin  \\\n",
              "0       3    male  22.0      1      0         A/5 21171   7.2500   NaN   \n",
              "1       1  female  38.0      1      0          PC 17599  71.2833   C85   \n",
              "2       3  female  26.0      0      0  STON/O2. 3101282   7.9250   NaN   \n",
              "3       1  female  35.0      1      0            113803  53.1000  C123   \n",
              "4       3    male  35.0      0      0            373450   8.0500   NaN   \n",
              "\n",
              "   Title_Master  Title_Miss  Title_Mr  Title_Mrs  Title_Officer  \\\n",
              "0             0           0         1          0              0   \n",
              "1             0           0         0          1              0   \n",
              "2             0           1         0          0              0   \n",
              "3             0           0         0          1              0   \n",
              "4             0           0         1          0              0   \n",
              "\n",
              "   Title_Royalty  Embarked_C  Embarked_Q  Embarked_S  \n",
              "0              0           0           0           1  \n",
              "1              0           1           0           0  \n",
              "2              0           0           0           1  \n",
              "3              0           0           0           1  \n",
              "4              0           0           0           1  "
            ]
          },
          "metadata": {
            "tags": []
          },
          "execution_count": 81
        }
      ]
    },
    {
      "cell_type": "markdown",
      "metadata": {
        "id": "8gs773K4citi"
      },
      "source": [
        "### Processando a Cabine (Cabin)"
      ]
    },
    {
      "cell_type": "code",
      "metadata": {
        "id": "JZdeJAcKckRG"
      },
      "source": [
        "train_cabin, test_cabin = set(), set()\n",
        "\n",
        "for c in combined.iloc[:891]['Cabin']:\n",
        "    try:\n",
        "        train_cabin.add(c[0])\n",
        "    except:\n",
        "        train_cabin.add('U')\n",
        "        \n",
        "for c in combined.iloc[891:]['Cabin']:\n",
        "    try:\n",
        "        test_cabin.add(c[0])\n",
        "    except:\n",
        "        test_cabin.add('U')"
      ],
      "execution_count": null,
      "outputs": []
    },
    {
      "cell_type": "code",
      "metadata": {
        "id": "WQXcvjmcclXk",
        "colab": {
          "base_uri": "https://localhost:8080/"
        },
        "outputId": "7e25fa07-08cb-494b-a306-06d7bd3804f0"
      },
      "source": [
        "print(train_cabin)"
      ],
      "execution_count": null,
      "outputs": [
        {
          "output_type": "stream",
          "text": [
            "{'E', 'G', 'D', 'T', 'C', 'F', 'U', 'B', 'A'}\n"
          ],
          "name": "stdout"
        }
      ]
    },
    {
      "cell_type": "code",
      "metadata": {
        "id": "Wv_EptVecoqG",
        "colab": {
          "base_uri": "https://localhost:8080/"
        },
        "outputId": "28e7b2a1-8548-4d5f-c9da-7f559c09b0a9"
      },
      "source": [
        "print(test_cabin)"
      ],
      "execution_count": null,
      "outputs": [
        {
          "output_type": "stream",
          "text": [
            "{'E', 'G', 'D', 'C', 'F', 'U', 'B', 'A'}\n"
          ],
          "name": "stdout"
        }
      ]
    },
    {
      "cell_type": "markdown",
      "metadata": {
        "id": "uDGtiy4hcrl9"
      },
      "source": [
        "Não temos nenhuma carta de cabine no conjunto de teste que não esteja presente no conjunto de treino."
      ]
    },
    {
      "cell_type": "code",
      "metadata": {
        "id": "Yj2t3Xvacwqw"
      },
      "source": [
        "def process_cabin():\n",
        "    global combined    \n",
        "    # replacing missing cabins with U (for Uknown)\n",
        "    combined.Cabin.fillna('U', inplace=True)\n",
        "    \n",
        "    # mapping each Cabin value with the cabin letter\n",
        "    combined['Cabin'] = combined['Cabin'].map(lambda c: c[0])\n",
        "    \n",
        "    # dummy encoding ...\n",
        "    cabin_dummies = pd.get_dummies(combined['Cabin'], prefix='Cabin')    \n",
        "    combined = pd.concat([combined, cabin_dummies], axis=1)\n",
        "\n",
        "    combined.drop('Cabin', axis=1, inplace=True)\n",
        "    status('cabin')\n",
        "    return combined"
      ],
      "execution_count": null,
      "outputs": []
    },
    {
      "cell_type": "markdown",
      "metadata": {
        "id": "jMxttF_Dc-nq"
      },
      "source": [
        "Esta função substitui os valores NaN por U (para Desconhecido). Em seguida, mapeia cada valor de Cabine para a primeira letra. Em seguida, ele codifica os valores da cabine usando a codificação dummy novamente."
      ]
    },
    {
      "cell_type": "code",
      "metadata": {
        "id": "7zq7iZSNdAKi",
        "colab": {
          "base_uri": "https://localhost:8080/"
        },
        "outputId": "9b814d87-34cc-4c38-8f64-08f835e62ad9"
      },
      "source": [
        "combined = process_cabin()"
      ],
      "execution_count": null,
      "outputs": [
        {
          "output_type": "stream",
          "text": [
            "Processing cabin : ok\n"
          ],
          "name": "stdout"
        }
      ]
    },
    {
      "cell_type": "markdown",
      "metadata": {
        "id": "UFTvutfbdA6X"
      },
      "source": [
        "Ok, sem valores ausentes agora."
      ]
    },
    {
      "cell_type": "code",
      "metadata": {
        "id": "TfxqigfzdCjr",
        "colab": {
          "base_uri": "https://localhost:8080/",
          "height": 241
        },
        "outputId": "8ea94328-41a6-4e44-a2d8-adc1a2525f0a"
      },
      "source": [
        "combined.head()"
      ],
      "execution_count": null,
      "outputs": [
        {
          "output_type": "execute_result",
          "data": {
            "text/html": [
              "<div>\n",
              "<style scoped>\n",
              "    .dataframe tbody tr th:only-of-type {\n",
              "        vertical-align: middle;\n",
              "    }\n",
              "\n",
              "    .dataframe tbody tr th {\n",
              "        vertical-align: top;\n",
              "    }\n",
              "\n",
              "    .dataframe thead th {\n",
              "        text-align: right;\n",
              "    }\n",
              "</style>\n",
              "<table border=\"1\" class=\"dataframe\">\n",
              "  <thead>\n",
              "    <tr style=\"text-align: right;\">\n",
              "      <th></th>\n",
              "      <th>Pclass</th>\n",
              "      <th>Sex</th>\n",
              "      <th>Age</th>\n",
              "      <th>SibSp</th>\n",
              "      <th>Parch</th>\n",
              "      <th>Ticket</th>\n",
              "      <th>Fare</th>\n",
              "      <th>Title_Master</th>\n",
              "      <th>Title_Miss</th>\n",
              "      <th>Title_Mr</th>\n",
              "      <th>Title_Mrs</th>\n",
              "      <th>Title_Officer</th>\n",
              "      <th>Title_Royalty</th>\n",
              "      <th>Embarked_C</th>\n",
              "      <th>Embarked_Q</th>\n",
              "      <th>Embarked_S</th>\n",
              "      <th>Cabin_A</th>\n",
              "      <th>Cabin_B</th>\n",
              "      <th>Cabin_C</th>\n",
              "      <th>Cabin_D</th>\n",
              "      <th>Cabin_E</th>\n",
              "      <th>Cabin_F</th>\n",
              "      <th>Cabin_G</th>\n",
              "      <th>Cabin_T</th>\n",
              "      <th>Cabin_U</th>\n",
              "    </tr>\n",
              "  </thead>\n",
              "  <tbody>\n",
              "    <tr>\n",
              "      <th>0</th>\n",
              "      <td>3</td>\n",
              "      <td>male</td>\n",
              "      <td>22.0</td>\n",
              "      <td>1</td>\n",
              "      <td>0</td>\n",
              "      <td>A/5 21171</td>\n",
              "      <td>7.2500</td>\n",
              "      <td>0</td>\n",
              "      <td>0</td>\n",
              "      <td>1</td>\n",
              "      <td>0</td>\n",
              "      <td>0</td>\n",
              "      <td>0</td>\n",
              "      <td>0</td>\n",
              "      <td>0</td>\n",
              "      <td>1</td>\n",
              "      <td>0</td>\n",
              "      <td>0</td>\n",
              "      <td>0</td>\n",
              "      <td>0</td>\n",
              "      <td>0</td>\n",
              "      <td>0</td>\n",
              "      <td>0</td>\n",
              "      <td>0</td>\n",
              "      <td>1</td>\n",
              "    </tr>\n",
              "    <tr>\n",
              "      <th>1</th>\n",
              "      <td>1</td>\n",
              "      <td>female</td>\n",
              "      <td>38.0</td>\n",
              "      <td>1</td>\n",
              "      <td>0</td>\n",
              "      <td>PC 17599</td>\n",
              "      <td>71.2833</td>\n",
              "      <td>0</td>\n",
              "      <td>0</td>\n",
              "      <td>0</td>\n",
              "      <td>1</td>\n",
              "      <td>0</td>\n",
              "      <td>0</td>\n",
              "      <td>1</td>\n",
              "      <td>0</td>\n",
              "      <td>0</td>\n",
              "      <td>0</td>\n",
              "      <td>0</td>\n",
              "      <td>1</td>\n",
              "      <td>0</td>\n",
              "      <td>0</td>\n",
              "      <td>0</td>\n",
              "      <td>0</td>\n",
              "      <td>0</td>\n",
              "      <td>0</td>\n",
              "    </tr>\n",
              "    <tr>\n",
              "      <th>2</th>\n",
              "      <td>3</td>\n",
              "      <td>female</td>\n",
              "      <td>26.0</td>\n",
              "      <td>0</td>\n",
              "      <td>0</td>\n",
              "      <td>STON/O2. 3101282</td>\n",
              "      <td>7.9250</td>\n",
              "      <td>0</td>\n",
              "      <td>1</td>\n",
              "      <td>0</td>\n",
              "      <td>0</td>\n",
              "      <td>0</td>\n",
              "      <td>0</td>\n",
              "      <td>0</td>\n",
              "      <td>0</td>\n",
              "      <td>1</td>\n",
              "      <td>0</td>\n",
              "      <td>0</td>\n",
              "      <td>0</td>\n",
              "      <td>0</td>\n",
              "      <td>0</td>\n",
              "      <td>0</td>\n",
              "      <td>0</td>\n",
              "      <td>0</td>\n",
              "      <td>1</td>\n",
              "    </tr>\n",
              "    <tr>\n",
              "      <th>3</th>\n",
              "      <td>1</td>\n",
              "      <td>female</td>\n",
              "      <td>35.0</td>\n",
              "      <td>1</td>\n",
              "      <td>0</td>\n",
              "      <td>113803</td>\n",
              "      <td>53.1000</td>\n",
              "      <td>0</td>\n",
              "      <td>0</td>\n",
              "      <td>0</td>\n",
              "      <td>1</td>\n",
              "      <td>0</td>\n",
              "      <td>0</td>\n",
              "      <td>0</td>\n",
              "      <td>0</td>\n",
              "      <td>1</td>\n",
              "      <td>0</td>\n",
              "      <td>0</td>\n",
              "      <td>1</td>\n",
              "      <td>0</td>\n",
              "      <td>0</td>\n",
              "      <td>0</td>\n",
              "      <td>0</td>\n",
              "      <td>0</td>\n",
              "      <td>0</td>\n",
              "    </tr>\n",
              "    <tr>\n",
              "      <th>4</th>\n",
              "      <td>3</td>\n",
              "      <td>male</td>\n",
              "      <td>35.0</td>\n",
              "      <td>0</td>\n",
              "      <td>0</td>\n",
              "      <td>373450</td>\n",
              "      <td>8.0500</td>\n",
              "      <td>0</td>\n",
              "      <td>0</td>\n",
              "      <td>1</td>\n",
              "      <td>0</td>\n",
              "      <td>0</td>\n",
              "      <td>0</td>\n",
              "      <td>0</td>\n",
              "      <td>0</td>\n",
              "      <td>1</td>\n",
              "      <td>0</td>\n",
              "      <td>0</td>\n",
              "      <td>0</td>\n",
              "      <td>0</td>\n",
              "      <td>0</td>\n",
              "      <td>0</td>\n",
              "      <td>0</td>\n",
              "      <td>0</td>\n",
              "      <td>1</td>\n",
              "    </tr>\n",
              "  </tbody>\n",
              "</table>\n",
              "</div>"
            ],
            "text/plain": [
              "   Pclass     Sex   Age  SibSp  Parch            Ticket     Fare  \\\n",
              "0       3    male  22.0      1      0         A/5 21171   7.2500   \n",
              "1       1  female  38.0      1      0          PC 17599  71.2833   \n",
              "2       3  female  26.0      0      0  STON/O2. 3101282   7.9250   \n",
              "3       1  female  35.0      1      0            113803  53.1000   \n",
              "4       3    male  35.0      0      0            373450   8.0500   \n",
              "\n",
              "   Title_Master  Title_Miss  Title_Mr  Title_Mrs  Title_Officer  \\\n",
              "0             0           0         1          0              0   \n",
              "1             0           0         0          1              0   \n",
              "2             0           1         0          0              0   \n",
              "3             0           0         0          1              0   \n",
              "4             0           0         1          0              0   \n",
              "\n",
              "   Title_Royalty  Embarked_C  Embarked_Q  Embarked_S  Cabin_A  Cabin_B  \\\n",
              "0              0           0           0           1        0        0   \n",
              "1              0           1           0           0        0        0   \n",
              "2              0           0           0           1        0        0   \n",
              "3              0           0           0           1        0        0   \n",
              "4              0           0           0           1        0        0   \n",
              "\n",
              "   Cabin_C  Cabin_D  Cabin_E  Cabin_F  Cabin_G  Cabin_T  Cabin_U  \n",
              "0        0        0        0        0        0        0        1  \n",
              "1        1        0        0        0        0        0        0  \n",
              "2        0        0        0        0        0        0        1  \n",
              "3        1        0        0        0        0        0        0  \n",
              "4        0        0        0        0        0        0        1  "
            ]
          },
          "metadata": {
            "tags": []
          },
          "execution_count": 87
        }
      ]
    },
    {
      "cell_type": "markdown",
      "metadata": {
        "id": "lIREL_1Pdcz7"
      },
      "source": [
        "### Processando o Sexo (Sex)"
      ]
    },
    {
      "cell_type": "code",
      "metadata": {
        "id": "wXO8KmwXdfM3"
      },
      "source": [
        "def process_sex():\n",
        "    global combined\n",
        "    # mapping string values to numerical one \n",
        "    combined['Sex'] = combined['Sex'].map({'male':1, 'female':0})\n",
        "    status('Sex')\n",
        "    return combined"
      ],
      "execution_count": null,
      "outputs": []
    },
    {
      "cell_type": "markdown",
      "metadata": {
        "id": "gtZCWGL5dhFp"
      },
      "source": [
        "Esta função mapeia os valores de string masculino e feminino para 1 e 0, respectivamente."
      ]
    },
    {
      "cell_type": "code",
      "metadata": {
        "id": "YNysXjVedhnf",
        "colab": {
          "base_uri": "https://localhost:8080/"
        },
        "outputId": "c4681727-a331-4f34-f98c-198f449d499d"
      },
      "source": [
        "combined = process_sex()"
      ],
      "execution_count": null,
      "outputs": [
        {
          "output_type": "stream",
          "text": [
            "Processing Sex : ok\n"
          ],
          "name": "stdout"
        }
      ]
    },
    {
      "cell_type": "markdown",
      "metadata": {
        "id": "m-33Yp5vdl5m"
      },
      "source": [
        "### Processando a Classe (PClass)"
      ]
    },
    {
      "cell_type": "code",
      "metadata": {
        "id": "iFjaiFb0dpSC"
      },
      "source": [
        "def process_pclass():\n",
        "    \n",
        "    global combined\n",
        "    # encoding into 3 categories:\n",
        "    pclass_dummies = pd.get_dummies(combined['Pclass'], prefix=\"Pclass\")\n",
        "    \n",
        "    # adding dummy variable\n",
        "    combined = pd.concat([combined, pclass_dummies],axis=1)\n",
        "    \n",
        "    # removing \"Pclass\"\n",
        "    combined.drop('Pclass',axis=1,inplace=True)\n",
        "    \n",
        "    status('Pclass')\n",
        "    return combined"
      ],
      "execution_count": null,
      "outputs": []
    },
    {
      "cell_type": "markdown",
      "metadata": {
        "id": "wRsonxpLdrFJ"
      },
      "source": [
        "Esta função codifica os valores de Pclass (1,2,3) usando uma codificação dummy.\n"
      ]
    },
    {
      "cell_type": "code",
      "metadata": {
        "id": "-iilsgdsdsw-",
        "colab": {
          "base_uri": "https://localhost:8080/"
        },
        "outputId": "9ac62a35-cef1-4fc0-da51-75a677b3f487"
      },
      "source": [
        "combined = process_pclass()"
      ],
      "execution_count": null,
      "outputs": [
        {
          "output_type": "stream",
          "text": [
            "Processing Pclass : ok\n"
          ],
          "name": "stdout"
        }
      ]
    },
    {
      "cell_type": "code",
      "metadata": {
        "id": "GvPm55oGgM8K",
        "colab": {
          "base_uri": "https://localhost:8080/",
          "height": 706
        },
        "outputId": "594b3d6f-f885-48a4-c4f9-17a9f8b9650b"
      },
      "source": [
        "combined.head(20)"
      ],
      "execution_count": null,
      "outputs": [
        {
          "output_type": "execute_result",
          "data": {
            "text/html": [
              "<div>\n",
              "<style scoped>\n",
              "    .dataframe tbody tr th:only-of-type {\n",
              "        vertical-align: middle;\n",
              "    }\n",
              "\n",
              "    .dataframe tbody tr th {\n",
              "        vertical-align: top;\n",
              "    }\n",
              "\n",
              "    .dataframe thead th {\n",
              "        text-align: right;\n",
              "    }\n",
              "</style>\n",
              "<table border=\"1\" class=\"dataframe\">\n",
              "  <thead>\n",
              "    <tr style=\"text-align: right;\">\n",
              "      <th></th>\n",
              "      <th>Sex</th>\n",
              "      <th>Age</th>\n",
              "      <th>SibSp</th>\n",
              "      <th>Parch</th>\n",
              "      <th>Ticket</th>\n",
              "      <th>Fare</th>\n",
              "      <th>Title_Master</th>\n",
              "      <th>Title_Miss</th>\n",
              "      <th>Title_Mr</th>\n",
              "      <th>Title_Mrs</th>\n",
              "      <th>Title_Officer</th>\n",
              "      <th>Title_Royalty</th>\n",
              "      <th>Embarked_C</th>\n",
              "      <th>Embarked_Q</th>\n",
              "      <th>Embarked_S</th>\n",
              "      <th>Cabin_A</th>\n",
              "      <th>Cabin_B</th>\n",
              "      <th>Cabin_C</th>\n",
              "      <th>Cabin_D</th>\n",
              "      <th>Cabin_E</th>\n",
              "      <th>Cabin_F</th>\n",
              "      <th>Cabin_G</th>\n",
              "      <th>Cabin_T</th>\n",
              "      <th>Cabin_U</th>\n",
              "      <th>Pclass_1</th>\n",
              "      <th>Pclass_2</th>\n",
              "      <th>Pclass_3</th>\n",
              "    </tr>\n",
              "  </thead>\n",
              "  <tbody>\n",
              "    <tr>\n",
              "      <th>0</th>\n",
              "      <td>1</td>\n",
              "      <td>22.0</td>\n",
              "      <td>1</td>\n",
              "      <td>0</td>\n",
              "      <td>A/5 21171</td>\n",
              "      <td>7.2500</td>\n",
              "      <td>0</td>\n",
              "      <td>0</td>\n",
              "      <td>1</td>\n",
              "      <td>0</td>\n",
              "      <td>0</td>\n",
              "      <td>0</td>\n",
              "      <td>0</td>\n",
              "      <td>0</td>\n",
              "      <td>1</td>\n",
              "      <td>0</td>\n",
              "      <td>0</td>\n",
              "      <td>0</td>\n",
              "      <td>0</td>\n",
              "      <td>0</td>\n",
              "      <td>0</td>\n",
              "      <td>0</td>\n",
              "      <td>0</td>\n",
              "      <td>1</td>\n",
              "      <td>0</td>\n",
              "      <td>0</td>\n",
              "      <td>1</td>\n",
              "    </tr>\n",
              "    <tr>\n",
              "      <th>1</th>\n",
              "      <td>0</td>\n",
              "      <td>38.0</td>\n",
              "      <td>1</td>\n",
              "      <td>0</td>\n",
              "      <td>PC 17599</td>\n",
              "      <td>71.2833</td>\n",
              "      <td>0</td>\n",
              "      <td>0</td>\n",
              "      <td>0</td>\n",
              "      <td>1</td>\n",
              "      <td>0</td>\n",
              "      <td>0</td>\n",
              "      <td>1</td>\n",
              "      <td>0</td>\n",
              "      <td>0</td>\n",
              "      <td>0</td>\n",
              "      <td>0</td>\n",
              "      <td>1</td>\n",
              "      <td>0</td>\n",
              "      <td>0</td>\n",
              "      <td>0</td>\n",
              "      <td>0</td>\n",
              "      <td>0</td>\n",
              "      <td>0</td>\n",
              "      <td>1</td>\n",
              "      <td>0</td>\n",
              "      <td>0</td>\n",
              "    </tr>\n",
              "    <tr>\n",
              "      <th>2</th>\n",
              "      <td>0</td>\n",
              "      <td>26.0</td>\n",
              "      <td>0</td>\n",
              "      <td>0</td>\n",
              "      <td>STON/O2. 3101282</td>\n",
              "      <td>7.9250</td>\n",
              "      <td>0</td>\n",
              "      <td>1</td>\n",
              "      <td>0</td>\n",
              "      <td>0</td>\n",
              "      <td>0</td>\n",
              "      <td>0</td>\n",
              "      <td>0</td>\n",
              "      <td>0</td>\n",
              "      <td>1</td>\n",
              "      <td>0</td>\n",
              "      <td>0</td>\n",
              "      <td>0</td>\n",
              "      <td>0</td>\n",
              "      <td>0</td>\n",
              "      <td>0</td>\n",
              "      <td>0</td>\n",
              "      <td>0</td>\n",
              "      <td>1</td>\n",
              "      <td>0</td>\n",
              "      <td>0</td>\n",
              "      <td>1</td>\n",
              "    </tr>\n",
              "    <tr>\n",
              "      <th>3</th>\n",
              "      <td>0</td>\n",
              "      <td>35.0</td>\n",
              "      <td>1</td>\n",
              "      <td>0</td>\n",
              "      <td>113803</td>\n",
              "      <td>53.1000</td>\n",
              "      <td>0</td>\n",
              "      <td>0</td>\n",
              "      <td>0</td>\n",
              "      <td>1</td>\n",
              "      <td>0</td>\n",
              "      <td>0</td>\n",
              "      <td>0</td>\n",
              "      <td>0</td>\n",
              "      <td>1</td>\n",
              "      <td>0</td>\n",
              "      <td>0</td>\n",
              "      <td>1</td>\n",
              "      <td>0</td>\n",
              "      <td>0</td>\n",
              "      <td>0</td>\n",
              "      <td>0</td>\n",
              "      <td>0</td>\n",
              "      <td>0</td>\n",
              "      <td>1</td>\n",
              "      <td>0</td>\n",
              "      <td>0</td>\n",
              "    </tr>\n",
              "    <tr>\n",
              "      <th>4</th>\n",
              "      <td>1</td>\n",
              "      <td>35.0</td>\n",
              "      <td>0</td>\n",
              "      <td>0</td>\n",
              "      <td>373450</td>\n",
              "      <td>8.0500</td>\n",
              "      <td>0</td>\n",
              "      <td>0</td>\n",
              "      <td>1</td>\n",
              "      <td>0</td>\n",
              "      <td>0</td>\n",
              "      <td>0</td>\n",
              "      <td>0</td>\n",
              "      <td>0</td>\n",
              "      <td>1</td>\n",
              "      <td>0</td>\n",
              "      <td>0</td>\n",
              "      <td>0</td>\n",
              "      <td>0</td>\n",
              "      <td>0</td>\n",
              "      <td>0</td>\n",
              "      <td>0</td>\n",
              "      <td>0</td>\n",
              "      <td>1</td>\n",
              "      <td>0</td>\n",
              "      <td>0</td>\n",
              "      <td>1</td>\n",
              "    </tr>\n",
              "    <tr>\n",
              "      <th>5</th>\n",
              "      <td>1</td>\n",
              "      <td>26.0</td>\n",
              "      <td>0</td>\n",
              "      <td>0</td>\n",
              "      <td>330877</td>\n",
              "      <td>8.4583</td>\n",
              "      <td>0</td>\n",
              "      <td>0</td>\n",
              "      <td>1</td>\n",
              "      <td>0</td>\n",
              "      <td>0</td>\n",
              "      <td>0</td>\n",
              "      <td>0</td>\n",
              "      <td>1</td>\n",
              "      <td>0</td>\n",
              "      <td>0</td>\n",
              "      <td>0</td>\n",
              "      <td>0</td>\n",
              "      <td>0</td>\n",
              "      <td>0</td>\n",
              "      <td>0</td>\n",
              "      <td>0</td>\n",
              "      <td>0</td>\n",
              "      <td>1</td>\n",
              "      <td>0</td>\n",
              "      <td>0</td>\n",
              "      <td>1</td>\n",
              "    </tr>\n",
              "    <tr>\n",
              "      <th>6</th>\n",
              "      <td>1</td>\n",
              "      <td>54.0</td>\n",
              "      <td>0</td>\n",
              "      <td>0</td>\n",
              "      <td>17463</td>\n",
              "      <td>51.8625</td>\n",
              "      <td>0</td>\n",
              "      <td>0</td>\n",
              "      <td>1</td>\n",
              "      <td>0</td>\n",
              "      <td>0</td>\n",
              "      <td>0</td>\n",
              "      <td>0</td>\n",
              "      <td>0</td>\n",
              "      <td>1</td>\n",
              "      <td>0</td>\n",
              "      <td>0</td>\n",
              "      <td>0</td>\n",
              "      <td>0</td>\n",
              "      <td>1</td>\n",
              "      <td>0</td>\n",
              "      <td>0</td>\n",
              "      <td>0</td>\n",
              "      <td>0</td>\n",
              "      <td>1</td>\n",
              "      <td>0</td>\n",
              "      <td>0</td>\n",
              "    </tr>\n",
              "    <tr>\n",
              "      <th>7</th>\n",
              "      <td>1</td>\n",
              "      <td>2.0</td>\n",
              "      <td>3</td>\n",
              "      <td>1</td>\n",
              "      <td>349909</td>\n",
              "      <td>21.0750</td>\n",
              "      <td>1</td>\n",
              "      <td>0</td>\n",
              "      <td>0</td>\n",
              "      <td>0</td>\n",
              "      <td>0</td>\n",
              "      <td>0</td>\n",
              "      <td>0</td>\n",
              "      <td>0</td>\n",
              "      <td>1</td>\n",
              "      <td>0</td>\n",
              "      <td>0</td>\n",
              "      <td>0</td>\n",
              "      <td>0</td>\n",
              "      <td>0</td>\n",
              "      <td>0</td>\n",
              "      <td>0</td>\n",
              "      <td>0</td>\n",
              "      <td>1</td>\n",
              "      <td>0</td>\n",
              "      <td>0</td>\n",
              "      <td>1</td>\n",
              "    </tr>\n",
              "    <tr>\n",
              "      <th>8</th>\n",
              "      <td>0</td>\n",
              "      <td>27.0</td>\n",
              "      <td>0</td>\n",
              "      <td>2</td>\n",
              "      <td>347742</td>\n",
              "      <td>11.1333</td>\n",
              "      <td>0</td>\n",
              "      <td>0</td>\n",
              "      <td>0</td>\n",
              "      <td>1</td>\n",
              "      <td>0</td>\n",
              "      <td>0</td>\n",
              "      <td>0</td>\n",
              "      <td>0</td>\n",
              "      <td>1</td>\n",
              "      <td>0</td>\n",
              "      <td>0</td>\n",
              "      <td>0</td>\n",
              "      <td>0</td>\n",
              "      <td>0</td>\n",
              "      <td>0</td>\n",
              "      <td>0</td>\n",
              "      <td>0</td>\n",
              "      <td>1</td>\n",
              "      <td>0</td>\n",
              "      <td>0</td>\n",
              "      <td>1</td>\n",
              "    </tr>\n",
              "    <tr>\n",
              "      <th>9</th>\n",
              "      <td>0</td>\n",
              "      <td>14.0</td>\n",
              "      <td>1</td>\n",
              "      <td>0</td>\n",
              "      <td>237736</td>\n",
              "      <td>30.0708</td>\n",
              "      <td>0</td>\n",
              "      <td>0</td>\n",
              "      <td>0</td>\n",
              "      <td>1</td>\n",
              "      <td>0</td>\n",
              "      <td>0</td>\n",
              "      <td>1</td>\n",
              "      <td>0</td>\n",
              "      <td>0</td>\n",
              "      <td>0</td>\n",
              "      <td>0</td>\n",
              "      <td>0</td>\n",
              "      <td>0</td>\n",
              "      <td>0</td>\n",
              "      <td>0</td>\n",
              "      <td>0</td>\n",
              "      <td>0</td>\n",
              "      <td>1</td>\n",
              "      <td>0</td>\n",
              "      <td>1</td>\n",
              "      <td>0</td>\n",
              "    </tr>\n",
              "    <tr>\n",
              "      <th>10</th>\n",
              "      <td>0</td>\n",
              "      <td>4.0</td>\n",
              "      <td>1</td>\n",
              "      <td>1</td>\n",
              "      <td>PP 9549</td>\n",
              "      <td>16.7000</td>\n",
              "      <td>0</td>\n",
              "      <td>1</td>\n",
              "      <td>0</td>\n",
              "      <td>0</td>\n",
              "      <td>0</td>\n",
              "      <td>0</td>\n",
              "      <td>0</td>\n",
              "      <td>0</td>\n",
              "      <td>1</td>\n",
              "      <td>0</td>\n",
              "      <td>0</td>\n",
              "      <td>0</td>\n",
              "      <td>0</td>\n",
              "      <td>0</td>\n",
              "      <td>0</td>\n",
              "      <td>1</td>\n",
              "      <td>0</td>\n",
              "      <td>0</td>\n",
              "      <td>0</td>\n",
              "      <td>0</td>\n",
              "      <td>1</td>\n",
              "    </tr>\n",
              "    <tr>\n",
              "      <th>11</th>\n",
              "      <td>0</td>\n",
              "      <td>58.0</td>\n",
              "      <td>0</td>\n",
              "      <td>0</td>\n",
              "      <td>113783</td>\n",
              "      <td>26.5500</td>\n",
              "      <td>0</td>\n",
              "      <td>1</td>\n",
              "      <td>0</td>\n",
              "      <td>0</td>\n",
              "      <td>0</td>\n",
              "      <td>0</td>\n",
              "      <td>0</td>\n",
              "      <td>0</td>\n",
              "      <td>1</td>\n",
              "      <td>0</td>\n",
              "      <td>0</td>\n",
              "      <td>1</td>\n",
              "      <td>0</td>\n",
              "      <td>0</td>\n",
              "      <td>0</td>\n",
              "      <td>0</td>\n",
              "      <td>0</td>\n",
              "      <td>0</td>\n",
              "      <td>1</td>\n",
              "      <td>0</td>\n",
              "      <td>0</td>\n",
              "    </tr>\n",
              "    <tr>\n",
              "      <th>12</th>\n",
              "      <td>1</td>\n",
              "      <td>20.0</td>\n",
              "      <td>0</td>\n",
              "      <td>0</td>\n",
              "      <td>A/5. 2151</td>\n",
              "      <td>8.0500</td>\n",
              "      <td>0</td>\n",
              "      <td>0</td>\n",
              "      <td>1</td>\n",
              "      <td>0</td>\n",
              "      <td>0</td>\n",
              "      <td>0</td>\n",
              "      <td>0</td>\n",
              "      <td>0</td>\n",
              "      <td>1</td>\n",
              "      <td>0</td>\n",
              "      <td>0</td>\n",
              "      <td>0</td>\n",
              "      <td>0</td>\n",
              "      <td>0</td>\n",
              "      <td>0</td>\n",
              "      <td>0</td>\n",
              "      <td>0</td>\n",
              "      <td>1</td>\n",
              "      <td>0</td>\n",
              "      <td>0</td>\n",
              "      <td>1</td>\n",
              "    </tr>\n",
              "    <tr>\n",
              "      <th>13</th>\n",
              "      <td>1</td>\n",
              "      <td>39.0</td>\n",
              "      <td>1</td>\n",
              "      <td>5</td>\n",
              "      <td>347082</td>\n",
              "      <td>31.2750</td>\n",
              "      <td>0</td>\n",
              "      <td>0</td>\n",
              "      <td>1</td>\n",
              "      <td>0</td>\n",
              "      <td>0</td>\n",
              "      <td>0</td>\n",
              "      <td>0</td>\n",
              "      <td>0</td>\n",
              "      <td>1</td>\n",
              "      <td>0</td>\n",
              "      <td>0</td>\n",
              "      <td>0</td>\n",
              "      <td>0</td>\n",
              "      <td>0</td>\n",
              "      <td>0</td>\n",
              "      <td>0</td>\n",
              "      <td>0</td>\n",
              "      <td>1</td>\n",
              "      <td>0</td>\n",
              "      <td>0</td>\n",
              "      <td>1</td>\n",
              "    </tr>\n",
              "    <tr>\n",
              "      <th>14</th>\n",
              "      <td>0</td>\n",
              "      <td>14.0</td>\n",
              "      <td>0</td>\n",
              "      <td>0</td>\n",
              "      <td>350406</td>\n",
              "      <td>7.8542</td>\n",
              "      <td>0</td>\n",
              "      <td>1</td>\n",
              "      <td>0</td>\n",
              "      <td>0</td>\n",
              "      <td>0</td>\n",
              "      <td>0</td>\n",
              "      <td>0</td>\n",
              "      <td>0</td>\n",
              "      <td>1</td>\n",
              "      <td>0</td>\n",
              "      <td>0</td>\n",
              "      <td>0</td>\n",
              "      <td>0</td>\n",
              "      <td>0</td>\n",
              "      <td>0</td>\n",
              "      <td>0</td>\n",
              "      <td>0</td>\n",
              "      <td>1</td>\n",
              "      <td>0</td>\n",
              "      <td>0</td>\n",
              "      <td>1</td>\n",
              "    </tr>\n",
              "    <tr>\n",
              "      <th>15</th>\n",
              "      <td>0</td>\n",
              "      <td>55.0</td>\n",
              "      <td>0</td>\n",
              "      <td>0</td>\n",
              "      <td>248706</td>\n",
              "      <td>16.0000</td>\n",
              "      <td>0</td>\n",
              "      <td>0</td>\n",
              "      <td>0</td>\n",
              "      <td>1</td>\n",
              "      <td>0</td>\n",
              "      <td>0</td>\n",
              "      <td>0</td>\n",
              "      <td>0</td>\n",
              "      <td>1</td>\n",
              "      <td>0</td>\n",
              "      <td>0</td>\n",
              "      <td>0</td>\n",
              "      <td>0</td>\n",
              "      <td>0</td>\n",
              "      <td>0</td>\n",
              "      <td>0</td>\n",
              "      <td>0</td>\n",
              "      <td>1</td>\n",
              "      <td>0</td>\n",
              "      <td>1</td>\n",
              "      <td>0</td>\n",
              "    </tr>\n",
              "    <tr>\n",
              "      <th>16</th>\n",
              "      <td>1</td>\n",
              "      <td>2.0</td>\n",
              "      <td>4</td>\n",
              "      <td>1</td>\n",
              "      <td>382652</td>\n",
              "      <td>29.1250</td>\n",
              "      <td>1</td>\n",
              "      <td>0</td>\n",
              "      <td>0</td>\n",
              "      <td>0</td>\n",
              "      <td>0</td>\n",
              "      <td>0</td>\n",
              "      <td>0</td>\n",
              "      <td>1</td>\n",
              "      <td>0</td>\n",
              "      <td>0</td>\n",
              "      <td>0</td>\n",
              "      <td>0</td>\n",
              "      <td>0</td>\n",
              "      <td>0</td>\n",
              "      <td>0</td>\n",
              "      <td>0</td>\n",
              "      <td>0</td>\n",
              "      <td>1</td>\n",
              "      <td>0</td>\n",
              "      <td>0</td>\n",
              "      <td>1</td>\n",
              "    </tr>\n",
              "    <tr>\n",
              "      <th>17</th>\n",
              "      <td>1</td>\n",
              "      <td>31.0</td>\n",
              "      <td>0</td>\n",
              "      <td>0</td>\n",
              "      <td>244373</td>\n",
              "      <td>13.0000</td>\n",
              "      <td>0</td>\n",
              "      <td>0</td>\n",
              "      <td>1</td>\n",
              "      <td>0</td>\n",
              "      <td>0</td>\n",
              "      <td>0</td>\n",
              "      <td>0</td>\n",
              "      <td>0</td>\n",
              "      <td>1</td>\n",
              "      <td>0</td>\n",
              "      <td>0</td>\n",
              "      <td>0</td>\n",
              "      <td>0</td>\n",
              "      <td>0</td>\n",
              "      <td>0</td>\n",
              "      <td>0</td>\n",
              "      <td>0</td>\n",
              "      <td>1</td>\n",
              "      <td>0</td>\n",
              "      <td>1</td>\n",
              "      <td>0</td>\n",
              "    </tr>\n",
              "    <tr>\n",
              "      <th>18</th>\n",
              "      <td>0</td>\n",
              "      <td>31.0</td>\n",
              "      <td>1</td>\n",
              "      <td>0</td>\n",
              "      <td>345763</td>\n",
              "      <td>18.0000</td>\n",
              "      <td>0</td>\n",
              "      <td>0</td>\n",
              "      <td>0</td>\n",
              "      <td>1</td>\n",
              "      <td>0</td>\n",
              "      <td>0</td>\n",
              "      <td>0</td>\n",
              "      <td>0</td>\n",
              "      <td>1</td>\n",
              "      <td>0</td>\n",
              "      <td>0</td>\n",
              "      <td>0</td>\n",
              "      <td>0</td>\n",
              "      <td>0</td>\n",
              "      <td>0</td>\n",
              "      <td>0</td>\n",
              "      <td>0</td>\n",
              "      <td>1</td>\n",
              "      <td>0</td>\n",
              "      <td>0</td>\n",
              "      <td>1</td>\n",
              "    </tr>\n",
              "    <tr>\n",
              "      <th>19</th>\n",
              "      <td>0</td>\n",
              "      <td>31.0</td>\n",
              "      <td>0</td>\n",
              "      <td>0</td>\n",
              "      <td>2649</td>\n",
              "      <td>7.2250</td>\n",
              "      <td>0</td>\n",
              "      <td>0</td>\n",
              "      <td>0</td>\n",
              "      <td>1</td>\n",
              "      <td>0</td>\n",
              "      <td>0</td>\n",
              "      <td>1</td>\n",
              "      <td>0</td>\n",
              "      <td>0</td>\n",
              "      <td>0</td>\n",
              "      <td>0</td>\n",
              "      <td>0</td>\n",
              "      <td>0</td>\n",
              "      <td>0</td>\n",
              "      <td>0</td>\n",
              "      <td>0</td>\n",
              "      <td>0</td>\n",
              "      <td>1</td>\n",
              "      <td>0</td>\n",
              "      <td>0</td>\n",
              "      <td>1</td>\n",
              "    </tr>\n",
              "  </tbody>\n",
              "</table>\n",
              "</div>"
            ],
            "text/plain": [
              "    Sex   Age  SibSp  Parch            Ticket     Fare  Title_Master  \\\n",
              "0     1  22.0      1      0         A/5 21171   7.2500             0   \n",
              "1     0  38.0      1      0          PC 17599  71.2833             0   \n",
              "2     0  26.0      0      0  STON/O2. 3101282   7.9250             0   \n",
              "3     0  35.0      1      0            113803  53.1000             0   \n",
              "4     1  35.0      0      0            373450   8.0500             0   \n",
              "5     1  26.0      0      0            330877   8.4583             0   \n",
              "6     1  54.0      0      0             17463  51.8625             0   \n",
              "7     1   2.0      3      1            349909  21.0750             1   \n",
              "8     0  27.0      0      2            347742  11.1333             0   \n",
              "9     0  14.0      1      0            237736  30.0708             0   \n",
              "10    0   4.0      1      1           PP 9549  16.7000             0   \n",
              "11    0  58.0      0      0            113783  26.5500             0   \n",
              "12    1  20.0      0      0         A/5. 2151   8.0500             0   \n",
              "13    1  39.0      1      5            347082  31.2750             0   \n",
              "14    0  14.0      0      0            350406   7.8542             0   \n",
              "15    0  55.0      0      0            248706  16.0000             0   \n",
              "16    1   2.0      4      1            382652  29.1250             1   \n",
              "17    1  31.0      0      0            244373  13.0000             0   \n",
              "18    0  31.0      1      0            345763  18.0000             0   \n",
              "19    0  31.0      0      0              2649   7.2250             0   \n",
              "\n",
              "    Title_Miss  Title_Mr  Title_Mrs  Title_Officer  Title_Royalty  Embarked_C  \\\n",
              "0            0         1          0              0              0           0   \n",
              "1            0         0          1              0              0           1   \n",
              "2            1         0          0              0              0           0   \n",
              "3            0         0          1              0              0           0   \n",
              "4            0         1          0              0              0           0   \n",
              "5            0         1          0              0              0           0   \n",
              "6            0         1          0              0              0           0   \n",
              "7            0         0          0              0              0           0   \n",
              "8            0         0          1              0              0           0   \n",
              "9            0         0          1              0              0           1   \n",
              "10           1         0          0              0              0           0   \n",
              "11           1         0          0              0              0           0   \n",
              "12           0         1          0              0              0           0   \n",
              "13           0         1          0              0              0           0   \n",
              "14           1         0          0              0              0           0   \n",
              "15           0         0          1              0              0           0   \n",
              "16           0         0          0              0              0           0   \n",
              "17           0         1          0              0              0           0   \n",
              "18           0         0          1              0              0           0   \n",
              "19           0         0          1              0              0           1   \n",
              "\n",
              "    Embarked_Q  Embarked_S  Cabin_A  Cabin_B  Cabin_C  Cabin_D  Cabin_E  \\\n",
              "0            0           1        0        0        0        0        0   \n",
              "1            0           0        0        0        1        0        0   \n",
              "2            0           1        0        0        0        0        0   \n",
              "3            0           1        0        0        1        0        0   \n",
              "4            0           1        0        0        0        0        0   \n",
              "5            1           0        0        0        0        0        0   \n",
              "6            0           1        0        0        0        0        1   \n",
              "7            0           1        0        0        0        0        0   \n",
              "8            0           1        0        0        0        0        0   \n",
              "9            0           0        0        0        0        0        0   \n",
              "10           0           1        0        0        0        0        0   \n",
              "11           0           1        0        0        1        0        0   \n",
              "12           0           1        0        0        0        0        0   \n",
              "13           0           1        0        0        0        0        0   \n",
              "14           0           1        0        0        0        0        0   \n",
              "15           0           1        0        0        0        0        0   \n",
              "16           1           0        0        0        0        0        0   \n",
              "17           0           1        0        0        0        0        0   \n",
              "18           0           1        0        0        0        0        0   \n",
              "19           0           0        0        0        0        0        0   \n",
              "\n",
              "    Cabin_F  Cabin_G  Cabin_T  Cabin_U  Pclass_1  Pclass_2  Pclass_3  \n",
              "0         0        0        0        1         0         0         1  \n",
              "1         0        0        0        0         1         0         0  \n",
              "2         0        0        0        1         0         0         1  \n",
              "3         0        0        0        0         1         0         0  \n",
              "4         0        0        0        1         0         0         1  \n",
              "5         0        0        0        1         0         0         1  \n",
              "6         0        0        0        0         1         0         0  \n",
              "7         0        0        0        1         0         0         1  \n",
              "8         0        0        0        1         0         0         1  \n",
              "9         0        0        0        1         0         1         0  \n",
              "10        0        1        0        0         0         0         1  \n",
              "11        0        0        0        0         1         0         0  \n",
              "12        0        0        0        1         0         0         1  \n",
              "13        0        0        0        1         0         0         1  \n",
              "14        0        0        0        1         0         0         1  \n",
              "15        0        0        0        1         0         1         0  \n",
              "16        0        0        0        1         0         0         1  \n",
              "17        0        0        0        1         0         1         0  \n",
              "18        0        0        0        1         0         0         1  \n",
              "19        0        0        0        1         0         0         1  "
            ]
          },
          "metadata": {
            "tags": []
          },
          "execution_count": 92
        }
      ]
    },
    {
      "cell_type": "markdown",
      "metadata": {
        "id": "Ji_Wbumygw4R"
      },
      "source": [
        "### Processando o Bilhete (Ticket)"
      ]
    },
    {
      "cell_type": "markdown",
      "metadata": {
        "id": "s3riP0Xxgzi3"
      },
      "source": [
        "Vamos primeiro ver como os diferentes prefixos de tickets que temos em nosso conjunto de dados"
      ]
    },
    {
      "cell_type": "code",
      "metadata": {
        "id": "wFiztm0Og0zd"
      },
      "source": [
        "def cleanTicket(ticket):\n",
        "    ticket = ticket.replace('.', '')\n",
        "    ticket = ticket.replace('/', '')\n",
        "    ticket = ticket.split()\n",
        "    ticket = map(lambda t : t.strip(), ticket)\n",
        "    ticket = list(filter(lambda t : not t.isdigit(), ticket))\n",
        "    if len(ticket) > 0:\n",
        "        return ticket[0]\n",
        "    else: \n",
        "        return 'XXX'"
      ],
      "execution_count": null,
      "outputs": []
    },
    {
      "cell_type": "code",
      "metadata": {
        "id": "UgBeU7YWg3nK"
      },
      "source": [
        "tickets = set()\n",
        "for t in combined['Ticket']:\n",
        "    tickets.add(cleanTicket(t))"
      ],
      "execution_count": null,
      "outputs": []
    },
    {
      "cell_type": "code",
      "metadata": {
        "id": "eq_7L5hbg4hE",
        "colab": {
          "base_uri": "https://localhost:8080/"
        },
        "outputId": "2a1d64f8-8cb7-4af2-dc91-6b301f2d4798"
      },
      "source": [
        "print(len(tickets))"
      ],
      "execution_count": null,
      "outputs": [
        {
          "output_type": "stream",
          "text": [
            "37\n"
          ],
          "name": "stdout"
        }
      ]
    },
    {
      "cell_type": "code",
      "metadata": {
        "id": "33ie36oWg9IZ"
      },
      "source": [
        "def process_ticket():\n",
        "    \n",
        "    global combined\n",
        "    \n",
        "    # a function that extracts each prefix of the ticket, returns 'XXX' if no prefix (i.e the ticket is a digit)\n",
        "    def cleanTicket(ticket):\n",
        "        ticket = ticket.replace('.','')\n",
        "        ticket = ticket.replace('/','')\n",
        "        ticket = ticket.split()\n",
        "        ticket = map(lambda t : t.strip(), ticket)\n",
        "        ticket = list(filter(lambda t : not t.isdigit(), ticket))\n",
        "        if len(ticket) > 0:\n",
        "            return ticket[0]\n",
        "        else: \n",
        "            return 'XXX'\n",
        "    \n",
        "\n",
        "    # Extracting dummy variables from tickets:\n",
        "\n",
        "    combined['Ticket'] = combined['Ticket'].map(cleanTicket)\n",
        "    tickets_dummies = pd.get_dummies(combined['Ticket'], prefix='Ticket')\n",
        "    combined = pd.concat([combined, tickets_dummies], axis=1)\n",
        "    combined.drop('Ticket', inplace=True, axis=1)\n",
        "\n",
        "    status('Ticket')\n",
        "    return combined"
      ],
      "execution_count": null,
      "outputs": []
    },
    {
      "cell_type": "code",
      "metadata": {
        "id": "GANrSYB-g_eG",
        "colab": {
          "base_uri": "https://localhost:8080/"
        },
        "outputId": "ad85485d-1d8e-4da7-da72-ee0a35f12a7d"
      },
      "source": [
        "combined = process_ticket()"
      ],
      "execution_count": null,
      "outputs": [
        {
          "output_type": "stream",
          "text": [
            "Processing Ticket : ok\n"
          ],
          "name": "stdout"
        }
      ]
    },
    {
      "cell_type": "code",
      "metadata": {
        "id": "nv2FRmetiZes",
        "colab": {
          "base_uri": "https://localhost:8080/",
          "height": 224
        },
        "outputId": "a2c72f0c-acab-4148-e06d-14ab787d745f"
      },
      "source": [
        "combined.head()"
      ],
      "execution_count": null,
      "outputs": [
        {
          "output_type": "execute_result",
          "data": {
            "text/html": [
              "<div>\n",
              "<style scoped>\n",
              "    .dataframe tbody tr th:only-of-type {\n",
              "        vertical-align: middle;\n",
              "    }\n",
              "\n",
              "    .dataframe tbody tr th {\n",
              "        vertical-align: top;\n",
              "    }\n",
              "\n",
              "    .dataframe thead th {\n",
              "        text-align: right;\n",
              "    }\n",
              "</style>\n",
              "<table border=\"1\" class=\"dataframe\">\n",
              "  <thead>\n",
              "    <tr style=\"text-align: right;\">\n",
              "      <th></th>\n",
              "      <th>Sex</th>\n",
              "      <th>Age</th>\n",
              "      <th>SibSp</th>\n",
              "      <th>Parch</th>\n",
              "      <th>Fare</th>\n",
              "      <th>Title_Master</th>\n",
              "      <th>Title_Miss</th>\n",
              "      <th>Title_Mr</th>\n",
              "      <th>Title_Mrs</th>\n",
              "      <th>Title_Officer</th>\n",
              "      <th>Title_Royalty</th>\n",
              "      <th>Embarked_C</th>\n",
              "      <th>Embarked_Q</th>\n",
              "      <th>Embarked_S</th>\n",
              "      <th>Cabin_A</th>\n",
              "      <th>Cabin_B</th>\n",
              "      <th>Cabin_C</th>\n",
              "      <th>Cabin_D</th>\n",
              "      <th>Cabin_E</th>\n",
              "      <th>Cabin_F</th>\n",
              "      <th>Cabin_G</th>\n",
              "      <th>Cabin_T</th>\n",
              "      <th>Cabin_U</th>\n",
              "      <th>Pclass_1</th>\n",
              "      <th>Pclass_2</th>\n",
              "      <th>Pclass_3</th>\n",
              "      <th>Ticket_A</th>\n",
              "      <th>Ticket_A4</th>\n",
              "      <th>Ticket_A5</th>\n",
              "      <th>Ticket_AQ3</th>\n",
              "      <th>Ticket_AQ4</th>\n",
              "      <th>Ticket_AS</th>\n",
              "      <th>Ticket_C</th>\n",
              "      <th>Ticket_CA</th>\n",
              "      <th>Ticket_CASOTON</th>\n",
              "      <th>Ticket_FC</th>\n",
              "      <th>Ticket_FCC</th>\n",
              "      <th>Ticket_Fa</th>\n",
              "      <th>Ticket_LINE</th>\n",
              "      <th>Ticket_LP</th>\n",
              "      <th>Ticket_PC</th>\n",
              "      <th>Ticket_PP</th>\n",
              "      <th>Ticket_PPP</th>\n",
              "      <th>Ticket_SC</th>\n",
              "      <th>Ticket_SCA3</th>\n",
              "      <th>Ticket_SCA4</th>\n",
              "      <th>Ticket_SCAH</th>\n",
              "      <th>Ticket_SCOW</th>\n",
              "      <th>Ticket_SCPARIS</th>\n",
              "      <th>Ticket_SCParis</th>\n",
              "      <th>Ticket_SOC</th>\n",
              "      <th>Ticket_SOP</th>\n",
              "      <th>Ticket_SOPP</th>\n",
              "      <th>Ticket_SOTONO2</th>\n",
              "      <th>Ticket_SOTONOQ</th>\n",
              "      <th>Ticket_SP</th>\n",
              "      <th>Ticket_STONO</th>\n",
              "      <th>Ticket_STONO2</th>\n",
              "      <th>Ticket_STONOQ</th>\n",
              "      <th>Ticket_SWPP</th>\n",
              "      <th>Ticket_WC</th>\n",
              "      <th>Ticket_WEP</th>\n",
              "      <th>Ticket_XXX</th>\n",
              "    </tr>\n",
              "  </thead>\n",
              "  <tbody>\n",
              "    <tr>\n",
              "      <th>0</th>\n",
              "      <td>1</td>\n",
              "      <td>22.0</td>\n",
              "      <td>1</td>\n",
              "      <td>0</td>\n",
              "      <td>7.2500</td>\n",
              "      <td>0</td>\n",
              "      <td>0</td>\n",
              "      <td>1</td>\n",
              "      <td>0</td>\n",
              "      <td>0</td>\n",
              "      <td>0</td>\n",
              "      <td>0</td>\n",
              "      <td>0</td>\n",
              "      <td>1</td>\n",
              "      <td>0</td>\n",
              "      <td>0</td>\n",
              "      <td>0</td>\n",
              "      <td>0</td>\n",
              "      <td>0</td>\n",
              "      <td>0</td>\n",
              "      <td>0</td>\n",
              "      <td>0</td>\n",
              "      <td>1</td>\n",
              "      <td>0</td>\n",
              "      <td>0</td>\n",
              "      <td>1</td>\n",
              "      <td>0</td>\n",
              "      <td>0</td>\n",
              "      <td>1</td>\n",
              "      <td>0</td>\n",
              "      <td>0</td>\n",
              "      <td>0</td>\n",
              "      <td>0</td>\n",
              "      <td>0</td>\n",
              "      <td>0</td>\n",
              "      <td>0</td>\n",
              "      <td>0</td>\n",
              "      <td>0</td>\n",
              "      <td>0</td>\n",
              "      <td>0</td>\n",
              "      <td>0</td>\n",
              "      <td>0</td>\n",
              "      <td>0</td>\n",
              "      <td>0</td>\n",
              "      <td>0</td>\n",
              "      <td>0</td>\n",
              "      <td>0</td>\n",
              "      <td>0</td>\n",
              "      <td>0</td>\n",
              "      <td>0</td>\n",
              "      <td>0</td>\n",
              "      <td>0</td>\n",
              "      <td>0</td>\n",
              "      <td>0</td>\n",
              "      <td>0</td>\n",
              "      <td>0</td>\n",
              "      <td>0</td>\n",
              "      <td>0</td>\n",
              "      <td>0</td>\n",
              "      <td>0</td>\n",
              "      <td>0</td>\n",
              "      <td>0</td>\n",
              "      <td>0</td>\n",
              "    </tr>\n",
              "    <tr>\n",
              "      <th>1</th>\n",
              "      <td>0</td>\n",
              "      <td>38.0</td>\n",
              "      <td>1</td>\n",
              "      <td>0</td>\n",
              "      <td>71.2833</td>\n",
              "      <td>0</td>\n",
              "      <td>0</td>\n",
              "      <td>0</td>\n",
              "      <td>1</td>\n",
              "      <td>0</td>\n",
              "      <td>0</td>\n",
              "      <td>1</td>\n",
              "      <td>0</td>\n",
              "      <td>0</td>\n",
              "      <td>0</td>\n",
              "      <td>0</td>\n",
              "      <td>1</td>\n",
              "      <td>0</td>\n",
              "      <td>0</td>\n",
              "      <td>0</td>\n",
              "      <td>0</td>\n",
              "      <td>0</td>\n",
              "      <td>0</td>\n",
              "      <td>1</td>\n",
              "      <td>0</td>\n",
              "      <td>0</td>\n",
              "      <td>0</td>\n",
              "      <td>0</td>\n",
              "      <td>0</td>\n",
              "      <td>0</td>\n",
              "      <td>0</td>\n",
              "      <td>0</td>\n",
              "      <td>0</td>\n",
              "      <td>0</td>\n",
              "      <td>0</td>\n",
              "      <td>0</td>\n",
              "      <td>0</td>\n",
              "      <td>0</td>\n",
              "      <td>0</td>\n",
              "      <td>0</td>\n",
              "      <td>1</td>\n",
              "      <td>0</td>\n",
              "      <td>0</td>\n",
              "      <td>0</td>\n",
              "      <td>0</td>\n",
              "      <td>0</td>\n",
              "      <td>0</td>\n",
              "      <td>0</td>\n",
              "      <td>0</td>\n",
              "      <td>0</td>\n",
              "      <td>0</td>\n",
              "      <td>0</td>\n",
              "      <td>0</td>\n",
              "      <td>0</td>\n",
              "      <td>0</td>\n",
              "      <td>0</td>\n",
              "      <td>0</td>\n",
              "      <td>0</td>\n",
              "      <td>0</td>\n",
              "      <td>0</td>\n",
              "      <td>0</td>\n",
              "      <td>0</td>\n",
              "      <td>0</td>\n",
              "    </tr>\n",
              "    <tr>\n",
              "      <th>2</th>\n",
              "      <td>0</td>\n",
              "      <td>26.0</td>\n",
              "      <td>0</td>\n",
              "      <td>0</td>\n",
              "      <td>7.9250</td>\n",
              "      <td>0</td>\n",
              "      <td>1</td>\n",
              "      <td>0</td>\n",
              "      <td>0</td>\n",
              "      <td>0</td>\n",
              "      <td>0</td>\n",
              "      <td>0</td>\n",
              "      <td>0</td>\n",
              "      <td>1</td>\n",
              "      <td>0</td>\n",
              "      <td>0</td>\n",
              "      <td>0</td>\n",
              "      <td>0</td>\n",
              "      <td>0</td>\n",
              "      <td>0</td>\n",
              "      <td>0</td>\n",
              "      <td>0</td>\n",
              "      <td>1</td>\n",
              "      <td>0</td>\n",
              "      <td>0</td>\n",
              "      <td>1</td>\n",
              "      <td>0</td>\n",
              "      <td>0</td>\n",
              "      <td>0</td>\n",
              "      <td>0</td>\n",
              "      <td>0</td>\n",
              "      <td>0</td>\n",
              "      <td>0</td>\n",
              "      <td>0</td>\n",
              "      <td>0</td>\n",
              "      <td>0</td>\n",
              "      <td>0</td>\n",
              "      <td>0</td>\n",
              "      <td>0</td>\n",
              "      <td>0</td>\n",
              "      <td>0</td>\n",
              "      <td>0</td>\n",
              "      <td>0</td>\n",
              "      <td>0</td>\n",
              "      <td>0</td>\n",
              "      <td>0</td>\n",
              "      <td>0</td>\n",
              "      <td>0</td>\n",
              "      <td>0</td>\n",
              "      <td>0</td>\n",
              "      <td>0</td>\n",
              "      <td>0</td>\n",
              "      <td>0</td>\n",
              "      <td>0</td>\n",
              "      <td>0</td>\n",
              "      <td>0</td>\n",
              "      <td>0</td>\n",
              "      <td>1</td>\n",
              "      <td>0</td>\n",
              "      <td>0</td>\n",
              "      <td>0</td>\n",
              "      <td>0</td>\n",
              "      <td>0</td>\n",
              "    </tr>\n",
              "    <tr>\n",
              "      <th>3</th>\n",
              "      <td>0</td>\n",
              "      <td>35.0</td>\n",
              "      <td>1</td>\n",
              "      <td>0</td>\n",
              "      <td>53.1000</td>\n",
              "      <td>0</td>\n",
              "      <td>0</td>\n",
              "      <td>0</td>\n",
              "      <td>1</td>\n",
              "      <td>0</td>\n",
              "      <td>0</td>\n",
              "      <td>0</td>\n",
              "      <td>0</td>\n",
              "      <td>1</td>\n",
              "      <td>0</td>\n",
              "      <td>0</td>\n",
              "      <td>1</td>\n",
              "      <td>0</td>\n",
              "      <td>0</td>\n",
              "      <td>0</td>\n",
              "      <td>0</td>\n",
              "      <td>0</td>\n",
              "      <td>0</td>\n",
              "      <td>1</td>\n",
              "      <td>0</td>\n",
              "      <td>0</td>\n",
              "      <td>0</td>\n",
              "      <td>0</td>\n",
              "      <td>0</td>\n",
              "      <td>0</td>\n",
              "      <td>0</td>\n",
              "      <td>0</td>\n",
              "      <td>0</td>\n",
              "      <td>0</td>\n",
              "      <td>0</td>\n",
              "      <td>0</td>\n",
              "      <td>0</td>\n",
              "      <td>0</td>\n",
              "      <td>0</td>\n",
              "      <td>0</td>\n",
              "      <td>0</td>\n",
              "      <td>0</td>\n",
              "      <td>0</td>\n",
              "      <td>0</td>\n",
              "      <td>0</td>\n",
              "      <td>0</td>\n",
              "      <td>0</td>\n",
              "      <td>0</td>\n",
              "      <td>0</td>\n",
              "      <td>0</td>\n",
              "      <td>0</td>\n",
              "      <td>0</td>\n",
              "      <td>0</td>\n",
              "      <td>0</td>\n",
              "      <td>0</td>\n",
              "      <td>0</td>\n",
              "      <td>0</td>\n",
              "      <td>0</td>\n",
              "      <td>0</td>\n",
              "      <td>0</td>\n",
              "      <td>0</td>\n",
              "      <td>0</td>\n",
              "      <td>1</td>\n",
              "    </tr>\n",
              "    <tr>\n",
              "      <th>4</th>\n",
              "      <td>1</td>\n",
              "      <td>35.0</td>\n",
              "      <td>0</td>\n",
              "      <td>0</td>\n",
              "      <td>8.0500</td>\n",
              "      <td>0</td>\n",
              "      <td>0</td>\n",
              "      <td>1</td>\n",
              "      <td>0</td>\n",
              "      <td>0</td>\n",
              "      <td>0</td>\n",
              "      <td>0</td>\n",
              "      <td>0</td>\n",
              "      <td>1</td>\n",
              "      <td>0</td>\n",
              "      <td>0</td>\n",
              "      <td>0</td>\n",
              "      <td>0</td>\n",
              "      <td>0</td>\n",
              "      <td>0</td>\n",
              "      <td>0</td>\n",
              "      <td>0</td>\n",
              "      <td>1</td>\n",
              "      <td>0</td>\n",
              "      <td>0</td>\n",
              "      <td>1</td>\n",
              "      <td>0</td>\n",
              "      <td>0</td>\n",
              "      <td>0</td>\n",
              "      <td>0</td>\n",
              "      <td>0</td>\n",
              "      <td>0</td>\n",
              "      <td>0</td>\n",
              "      <td>0</td>\n",
              "      <td>0</td>\n",
              "      <td>0</td>\n",
              "      <td>0</td>\n",
              "      <td>0</td>\n",
              "      <td>0</td>\n",
              "      <td>0</td>\n",
              "      <td>0</td>\n",
              "      <td>0</td>\n",
              "      <td>0</td>\n",
              "      <td>0</td>\n",
              "      <td>0</td>\n",
              "      <td>0</td>\n",
              "      <td>0</td>\n",
              "      <td>0</td>\n",
              "      <td>0</td>\n",
              "      <td>0</td>\n",
              "      <td>0</td>\n",
              "      <td>0</td>\n",
              "      <td>0</td>\n",
              "      <td>0</td>\n",
              "      <td>0</td>\n",
              "      <td>0</td>\n",
              "      <td>0</td>\n",
              "      <td>0</td>\n",
              "      <td>0</td>\n",
              "      <td>0</td>\n",
              "      <td>0</td>\n",
              "      <td>0</td>\n",
              "      <td>1</td>\n",
              "    </tr>\n",
              "  </tbody>\n",
              "</table>\n",
              "</div>"
            ],
            "text/plain": [
              "   Sex   Age  SibSp  Parch     Fare  Title_Master  Title_Miss  Title_Mr  \\\n",
              "0    1  22.0      1      0   7.2500             0           0         1   \n",
              "1    0  38.0      1      0  71.2833             0           0         0   \n",
              "2    0  26.0      0      0   7.9250             0           1         0   \n",
              "3    0  35.0      1      0  53.1000             0           0         0   \n",
              "4    1  35.0      0      0   8.0500             0           0         1   \n",
              "\n",
              "   Title_Mrs  Title_Officer  Title_Royalty  Embarked_C  Embarked_Q  \\\n",
              "0          0              0              0           0           0   \n",
              "1          1              0              0           1           0   \n",
              "2          0              0              0           0           0   \n",
              "3          1              0              0           0           0   \n",
              "4          0              0              0           0           0   \n",
              "\n",
              "   Embarked_S  Cabin_A  Cabin_B  Cabin_C  Cabin_D  Cabin_E  Cabin_F  Cabin_G  \\\n",
              "0           1        0        0        0        0        0        0        0   \n",
              "1           0        0        0        1        0        0        0        0   \n",
              "2           1        0        0        0        0        0        0        0   \n",
              "3           1        0        0        1        0        0        0        0   \n",
              "4           1        0        0        0        0        0        0        0   \n",
              "\n",
              "   Cabin_T  Cabin_U  Pclass_1  Pclass_2  Pclass_3  Ticket_A  Ticket_A4  \\\n",
              "0        0        1         0         0         1         0          0   \n",
              "1        0        0         1         0         0         0          0   \n",
              "2        0        1         0         0         1         0          0   \n",
              "3        0        0         1         0         0         0          0   \n",
              "4        0        1         0         0         1         0          0   \n",
              "\n",
              "   Ticket_A5  Ticket_AQ3  Ticket_AQ4  Ticket_AS  Ticket_C  Ticket_CA  \\\n",
              "0          1           0           0          0         0          0   \n",
              "1          0           0           0          0         0          0   \n",
              "2          0           0           0          0         0          0   \n",
              "3          0           0           0          0         0          0   \n",
              "4          0           0           0          0         0          0   \n",
              "\n",
              "   Ticket_CASOTON  Ticket_FC  Ticket_FCC  Ticket_Fa  Ticket_LINE  Ticket_LP  \\\n",
              "0               0          0           0          0            0          0   \n",
              "1               0          0           0          0            0          0   \n",
              "2               0          0           0          0            0          0   \n",
              "3               0          0           0          0            0          0   \n",
              "4               0          0           0          0            0          0   \n",
              "\n",
              "   Ticket_PC  Ticket_PP  Ticket_PPP  Ticket_SC  Ticket_SCA3  Ticket_SCA4  \\\n",
              "0          0          0           0          0            0            0   \n",
              "1          1          0           0          0            0            0   \n",
              "2          0          0           0          0            0            0   \n",
              "3          0          0           0          0            0            0   \n",
              "4          0          0           0          0            0            0   \n",
              "\n",
              "   Ticket_SCAH  Ticket_SCOW  Ticket_SCPARIS  Ticket_SCParis  Ticket_SOC  \\\n",
              "0            0            0               0               0           0   \n",
              "1            0            0               0               0           0   \n",
              "2            0            0               0               0           0   \n",
              "3            0            0               0               0           0   \n",
              "4            0            0               0               0           0   \n",
              "\n",
              "   Ticket_SOP  Ticket_SOPP  Ticket_SOTONO2  Ticket_SOTONOQ  Ticket_SP  \\\n",
              "0           0            0               0               0          0   \n",
              "1           0            0               0               0          0   \n",
              "2           0            0               0               0          0   \n",
              "3           0            0               0               0          0   \n",
              "4           0            0               0               0          0   \n",
              "\n",
              "   Ticket_STONO  Ticket_STONO2  Ticket_STONOQ  Ticket_SWPP  Ticket_WC  \\\n",
              "0             0              0              0            0          0   \n",
              "1             0              0              0            0          0   \n",
              "2             0              1              0            0          0   \n",
              "3             0              0              0            0          0   \n",
              "4             0              0              0            0          0   \n",
              "\n",
              "   Ticket_WEP  Ticket_XXX  \n",
              "0           0           0  \n",
              "1           0           0  \n",
              "2           0           0  \n",
              "3           0           1  \n",
              "4           0           1  "
            ]
          },
          "metadata": {
            "tags": []
          },
          "execution_count": 98
        }
      ]
    },
    {
      "cell_type": "markdown",
      "metadata": {
        "id": "gG2DdH8-b2Bp"
      },
      "source": [
        "### Processando a família (Family)"
      ]
    },
    {
      "cell_type": "markdown",
      "metadata": {
        "id": "a8HoN0pcb7cg"
      },
      "source": [
        "Esta parte inclui a criação de novas variáveis ​​com base no tamanho da família (o tamanho é, a propósito, outra variável que criamos).\n",
        "\n",
        "Essa criação de novas variáveis ​​é feita sob uma suposição realista: famílias grandes são agrupadas, portanto, são mais propensas a serem resgatadas do que pessoas que viajam sozinhas."
      ]
    },
    {
      "cell_type": "code",
      "metadata": {
        "id": "E89FLqO2cIcZ"
      },
      "source": [
        "def process_family():\n",
        "    \n",
        "    global combined\n",
        "    # introducing a new feature : the size of families (including the passenger)\n",
        "    combined['FamilySize'] = combined['Parch'] + combined['SibSp'] + 1\n",
        "    \n",
        "    # introducing other features based on the family size\n",
        "    combined['Singleton'] = combined['FamilySize'].map(lambda s: 1 if s == 1 else 0)\n",
        "    combined['SmallFamily'] = combined['FamilySize'].map(lambda s: 1 if 2 <= s <= 4 else 0)\n",
        "    combined['LargeFamily'] = combined['FamilySize'].map(lambda s: 1 if 5 <= s else 0)\n",
        "    \n",
        "    status('family')\n",
        "    return combined"
      ],
      "execution_count": null,
      "outputs": []
    },
    {
      "cell_type": "markdown",
      "metadata": {
        "id": "g0JH7pJOcKbq"
      },
      "source": [
        "Esta função apresenta 4 novos recursos:\n",
        "\n",
        "* FamilySize: o número total de parentes incluindo o passageiro (ele / ela).\n",
        "* Sigleton: uma variável booleana que descreve famílias de tamanho = 1\n",
        "* SmallFamily: uma variável booleana que descreve famílias de 2 <= tamanho <= 4\n",
        "* LargeFamily: uma variável booleana que descreve famílias de 5 < tamanho"
      ]
    },
    {
      "cell_type": "code",
      "metadata": {
        "id": "gvCUdmi9cQdu",
        "colab": {
          "base_uri": "https://localhost:8080/"
        },
        "outputId": "fbaed611-3491-43da-ba73-9edf9ca2a2db"
      },
      "source": [
        "combined = process_family()"
      ],
      "execution_count": null,
      "outputs": [
        {
          "output_type": "stream",
          "text": [
            "Processing family : ok\n"
          ],
          "name": "stdout"
        }
      ]
    },
    {
      "cell_type": "code",
      "metadata": {
        "id": "sm49xbiRcSoh",
        "colab": {
          "base_uri": "https://localhost:8080/"
        },
        "outputId": "409eed0f-5db1-4d04-ce0b-8af0cea2e654"
      },
      "source": [
        "print(combined.shape)"
      ],
      "execution_count": null,
      "outputs": [
        {
          "output_type": "stream",
          "text": [
            "(1309, 67)\n"
          ],
          "name": "stdout"
        }
      ]
    },
    {
      "cell_type": "markdown",
      "metadata": {
        "id": "lNEx1RmMcZN5"
      },
      "source": [
        "Acabamos com um total de 67 recursos."
      ]
    },
    {
      "cell_type": "code",
      "metadata": {
        "id": "fanUeTibcY87",
        "colab": {
          "base_uri": "https://localhost:8080/",
          "height": 224
        },
        "outputId": "10bf1f1c-d767-4240-ab49-78302f3447e1"
      },
      "source": [
        "combined.head()"
      ],
      "execution_count": null,
      "outputs": [
        {
          "output_type": "execute_result",
          "data": {
            "text/html": [
              "<div>\n",
              "<style scoped>\n",
              "    .dataframe tbody tr th:only-of-type {\n",
              "        vertical-align: middle;\n",
              "    }\n",
              "\n",
              "    .dataframe tbody tr th {\n",
              "        vertical-align: top;\n",
              "    }\n",
              "\n",
              "    .dataframe thead th {\n",
              "        text-align: right;\n",
              "    }\n",
              "</style>\n",
              "<table border=\"1\" class=\"dataframe\">\n",
              "  <thead>\n",
              "    <tr style=\"text-align: right;\">\n",
              "      <th></th>\n",
              "      <th>Sex</th>\n",
              "      <th>Age</th>\n",
              "      <th>SibSp</th>\n",
              "      <th>Parch</th>\n",
              "      <th>Fare</th>\n",
              "      <th>Title_Master</th>\n",
              "      <th>Title_Miss</th>\n",
              "      <th>Title_Mr</th>\n",
              "      <th>Title_Mrs</th>\n",
              "      <th>Title_Officer</th>\n",
              "      <th>Title_Royalty</th>\n",
              "      <th>Embarked_C</th>\n",
              "      <th>Embarked_Q</th>\n",
              "      <th>Embarked_S</th>\n",
              "      <th>Cabin_A</th>\n",
              "      <th>Cabin_B</th>\n",
              "      <th>Cabin_C</th>\n",
              "      <th>Cabin_D</th>\n",
              "      <th>Cabin_E</th>\n",
              "      <th>Cabin_F</th>\n",
              "      <th>Cabin_G</th>\n",
              "      <th>Cabin_T</th>\n",
              "      <th>Cabin_U</th>\n",
              "      <th>Pclass_1</th>\n",
              "      <th>Pclass_2</th>\n",
              "      <th>Pclass_3</th>\n",
              "      <th>Ticket_A</th>\n",
              "      <th>Ticket_A4</th>\n",
              "      <th>Ticket_A5</th>\n",
              "      <th>Ticket_AQ3</th>\n",
              "      <th>Ticket_AQ4</th>\n",
              "      <th>Ticket_AS</th>\n",
              "      <th>Ticket_C</th>\n",
              "      <th>Ticket_CA</th>\n",
              "      <th>Ticket_CASOTON</th>\n",
              "      <th>Ticket_FC</th>\n",
              "      <th>Ticket_FCC</th>\n",
              "      <th>Ticket_Fa</th>\n",
              "      <th>Ticket_LINE</th>\n",
              "      <th>Ticket_LP</th>\n",
              "      <th>Ticket_PC</th>\n",
              "      <th>Ticket_PP</th>\n",
              "      <th>Ticket_PPP</th>\n",
              "      <th>Ticket_SC</th>\n",
              "      <th>Ticket_SCA3</th>\n",
              "      <th>Ticket_SCA4</th>\n",
              "      <th>Ticket_SCAH</th>\n",
              "      <th>Ticket_SCOW</th>\n",
              "      <th>Ticket_SCPARIS</th>\n",
              "      <th>Ticket_SCParis</th>\n",
              "      <th>Ticket_SOC</th>\n",
              "      <th>Ticket_SOP</th>\n",
              "      <th>Ticket_SOPP</th>\n",
              "      <th>Ticket_SOTONO2</th>\n",
              "      <th>Ticket_SOTONOQ</th>\n",
              "      <th>Ticket_SP</th>\n",
              "      <th>Ticket_STONO</th>\n",
              "      <th>Ticket_STONO2</th>\n",
              "      <th>Ticket_STONOQ</th>\n",
              "      <th>Ticket_SWPP</th>\n",
              "      <th>Ticket_WC</th>\n",
              "      <th>Ticket_WEP</th>\n",
              "      <th>Ticket_XXX</th>\n",
              "      <th>FamilySize</th>\n",
              "      <th>Singleton</th>\n",
              "      <th>SmallFamily</th>\n",
              "      <th>LargeFamily</th>\n",
              "    </tr>\n",
              "  </thead>\n",
              "  <tbody>\n",
              "    <tr>\n",
              "      <th>0</th>\n",
              "      <td>1</td>\n",
              "      <td>22.0</td>\n",
              "      <td>1</td>\n",
              "      <td>0</td>\n",
              "      <td>7.2500</td>\n",
              "      <td>0</td>\n",
              "      <td>0</td>\n",
              "      <td>1</td>\n",
              "      <td>0</td>\n",
              "      <td>0</td>\n",
              "      <td>0</td>\n",
              "      <td>0</td>\n",
              "      <td>0</td>\n",
              "      <td>1</td>\n",
              "      <td>0</td>\n",
              "      <td>0</td>\n",
              "      <td>0</td>\n",
              "      <td>0</td>\n",
              "      <td>0</td>\n",
              "      <td>0</td>\n",
              "      <td>0</td>\n",
              "      <td>0</td>\n",
              "      <td>1</td>\n",
              "      <td>0</td>\n",
              "      <td>0</td>\n",
              "      <td>1</td>\n",
              "      <td>0</td>\n",
              "      <td>0</td>\n",
              "      <td>1</td>\n",
              "      <td>0</td>\n",
              "      <td>0</td>\n",
              "      <td>0</td>\n",
              "      <td>0</td>\n",
              "      <td>0</td>\n",
              "      <td>0</td>\n",
              "      <td>0</td>\n",
              "      <td>0</td>\n",
              "      <td>0</td>\n",
              "      <td>0</td>\n",
              "      <td>0</td>\n",
              "      <td>0</td>\n",
              "      <td>0</td>\n",
              "      <td>0</td>\n",
              "      <td>0</td>\n",
              "      <td>0</td>\n",
              "      <td>0</td>\n",
              "      <td>0</td>\n",
              "      <td>0</td>\n",
              "      <td>0</td>\n",
              "      <td>0</td>\n",
              "      <td>0</td>\n",
              "      <td>0</td>\n",
              "      <td>0</td>\n",
              "      <td>0</td>\n",
              "      <td>0</td>\n",
              "      <td>0</td>\n",
              "      <td>0</td>\n",
              "      <td>0</td>\n",
              "      <td>0</td>\n",
              "      <td>0</td>\n",
              "      <td>0</td>\n",
              "      <td>0</td>\n",
              "      <td>0</td>\n",
              "      <td>2</td>\n",
              "      <td>0</td>\n",
              "      <td>1</td>\n",
              "      <td>0</td>\n",
              "    </tr>\n",
              "    <tr>\n",
              "      <th>1</th>\n",
              "      <td>0</td>\n",
              "      <td>38.0</td>\n",
              "      <td>1</td>\n",
              "      <td>0</td>\n",
              "      <td>71.2833</td>\n",
              "      <td>0</td>\n",
              "      <td>0</td>\n",
              "      <td>0</td>\n",
              "      <td>1</td>\n",
              "      <td>0</td>\n",
              "      <td>0</td>\n",
              "      <td>1</td>\n",
              "      <td>0</td>\n",
              "      <td>0</td>\n",
              "      <td>0</td>\n",
              "      <td>0</td>\n",
              "      <td>1</td>\n",
              "      <td>0</td>\n",
              "      <td>0</td>\n",
              "      <td>0</td>\n",
              "      <td>0</td>\n",
              "      <td>0</td>\n",
              "      <td>0</td>\n",
              "      <td>1</td>\n",
              "      <td>0</td>\n",
              "      <td>0</td>\n",
              "      <td>0</td>\n",
              "      <td>0</td>\n",
              "      <td>0</td>\n",
              "      <td>0</td>\n",
              "      <td>0</td>\n",
              "      <td>0</td>\n",
              "      <td>0</td>\n",
              "      <td>0</td>\n",
              "      <td>0</td>\n",
              "      <td>0</td>\n",
              "      <td>0</td>\n",
              "      <td>0</td>\n",
              "      <td>0</td>\n",
              "      <td>0</td>\n",
              "      <td>1</td>\n",
              "      <td>0</td>\n",
              "      <td>0</td>\n",
              "      <td>0</td>\n",
              "      <td>0</td>\n",
              "      <td>0</td>\n",
              "      <td>0</td>\n",
              "      <td>0</td>\n",
              "      <td>0</td>\n",
              "      <td>0</td>\n",
              "      <td>0</td>\n",
              "      <td>0</td>\n",
              "      <td>0</td>\n",
              "      <td>0</td>\n",
              "      <td>0</td>\n",
              "      <td>0</td>\n",
              "      <td>0</td>\n",
              "      <td>0</td>\n",
              "      <td>0</td>\n",
              "      <td>0</td>\n",
              "      <td>0</td>\n",
              "      <td>0</td>\n",
              "      <td>0</td>\n",
              "      <td>2</td>\n",
              "      <td>0</td>\n",
              "      <td>1</td>\n",
              "      <td>0</td>\n",
              "    </tr>\n",
              "    <tr>\n",
              "      <th>2</th>\n",
              "      <td>0</td>\n",
              "      <td>26.0</td>\n",
              "      <td>0</td>\n",
              "      <td>0</td>\n",
              "      <td>7.9250</td>\n",
              "      <td>0</td>\n",
              "      <td>1</td>\n",
              "      <td>0</td>\n",
              "      <td>0</td>\n",
              "      <td>0</td>\n",
              "      <td>0</td>\n",
              "      <td>0</td>\n",
              "      <td>0</td>\n",
              "      <td>1</td>\n",
              "      <td>0</td>\n",
              "      <td>0</td>\n",
              "      <td>0</td>\n",
              "      <td>0</td>\n",
              "      <td>0</td>\n",
              "      <td>0</td>\n",
              "      <td>0</td>\n",
              "      <td>0</td>\n",
              "      <td>1</td>\n",
              "      <td>0</td>\n",
              "      <td>0</td>\n",
              "      <td>1</td>\n",
              "      <td>0</td>\n",
              "      <td>0</td>\n",
              "      <td>0</td>\n",
              "      <td>0</td>\n",
              "      <td>0</td>\n",
              "      <td>0</td>\n",
              "      <td>0</td>\n",
              "      <td>0</td>\n",
              "      <td>0</td>\n",
              "      <td>0</td>\n",
              "      <td>0</td>\n",
              "      <td>0</td>\n",
              "      <td>0</td>\n",
              "      <td>0</td>\n",
              "      <td>0</td>\n",
              "      <td>0</td>\n",
              "      <td>0</td>\n",
              "      <td>0</td>\n",
              "      <td>0</td>\n",
              "      <td>0</td>\n",
              "      <td>0</td>\n",
              "      <td>0</td>\n",
              "      <td>0</td>\n",
              "      <td>0</td>\n",
              "      <td>0</td>\n",
              "      <td>0</td>\n",
              "      <td>0</td>\n",
              "      <td>0</td>\n",
              "      <td>0</td>\n",
              "      <td>0</td>\n",
              "      <td>0</td>\n",
              "      <td>1</td>\n",
              "      <td>0</td>\n",
              "      <td>0</td>\n",
              "      <td>0</td>\n",
              "      <td>0</td>\n",
              "      <td>0</td>\n",
              "      <td>1</td>\n",
              "      <td>1</td>\n",
              "      <td>0</td>\n",
              "      <td>0</td>\n",
              "    </tr>\n",
              "    <tr>\n",
              "      <th>3</th>\n",
              "      <td>0</td>\n",
              "      <td>35.0</td>\n",
              "      <td>1</td>\n",
              "      <td>0</td>\n",
              "      <td>53.1000</td>\n",
              "      <td>0</td>\n",
              "      <td>0</td>\n",
              "      <td>0</td>\n",
              "      <td>1</td>\n",
              "      <td>0</td>\n",
              "      <td>0</td>\n",
              "      <td>0</td>\n",
              "      <td>0</td>\n",
              "      <td>1</td>\n",
              "      <td>0</td>\n",
              "      <td>0</td>\n",
              "      <td>1</td>\n",
              "      <td>0</td>\n",
              "      <td>0</td>\n",
              "      <td>0</td>\n",
              "      <td>0</td>\n",
              "      <td>0</td>\n",
              "      <td>0</td>\n",
              "      <td>1</td>\n",
              "      <td>0</td>\n",
              "      <td>0</td>\n",
              "      <td>0</td>\n",
              "      <td>0</td>\n",
              "      <td>0</td>\n",
              "      <td>0</td>\n",
              "      <td>0</td>\n",
              "      <td>0</td>\n",
              "      <td>0</td>\n",
              "      <td>0</td>\n",
              "      <td>0</td>\n",
              "      <td>0</td>\n",
              "      <td>0</td>\n",
              "      <td>0</td>\n",
              "      <td>0</td>\n",
              "      <td>0</td>\n",
              "      <td>0</td>\n",
              "      <td>0</td>\n",
              "      <td>0</td>\n",
              "      <td>0</td>\n",
              "      <td>0</td>\n",
              "      <td>0</td>\n",
              "      <td>0</td>\n",
              "      <td>0</td>\n",
              "      <td>0</td>\n",
              "      <td>0</td>\n",
              "      <td>0</td>\n",
              "      <td>0</td>\n",
              "      <td>0</td>\n",
              "      <td>0</td>\n",
              "      <td>0</td>\n",
              "      <td>0</td>\n",
              "      <td>0</td>\n",
              "      <td>0</td>\n",
              "      <td>0</td>\n",
              "      <td>0</td>\n",
              "      <td>0</td>\n",
              "      <td>0</td>\n",
              "      <td>1</td>\n",
              "      <td>2</td>\n",
              "      <td>0</td>\n",
              "      <td>1</td>\n",
              "      <td>0</td>\n",
              "    </tr>\n",
              "    <tr>\n",
              "      <th>4</th>\n",
              "      <td>1</td>\n",
              "      <td>35.0</td>\n",
              "      <td>0</td>\n",
              "      <td>0</td>\n",
              "      <td>8.0500</td>\n",
              "      <td>0</td>\n",
              "      <td>0</td>\n",
              "      <td>1</td>\n",
              "      <td>0</td>\n",
              "      <td>0</td>\n",
              "      <td>0</td>\n",
              "      <td>0</td>\n",
              "      <td>0</td>\n",
              "      <td>1</td>\n",
              "      <td>0</td>\n",
              "      <td>0</td>\n",
              "      <td>0</td>\n",
              "      <td>0</td>\n",
              "      <td>0</td>\n",
              "      <td>0</td>\n",
              "      <td>0</td>\n",
              "      <td>0</td>\n",
              "      <td>1</td>\n",
              "      <td>0</td>\n",
              "      <td>0</td>\n",
              "      <td>1</td>\n",
              "      <td>0</td>\n",
              "      <td>0</td>\n",
              "      <td>0</td>\n",
              "      <td>0</td>\n",
              "      <td>0</td>\n",
              "      <td>0</td>\n",
              "      <td>0</td>\n",
              "      <td>0</td>\n",
              "      <td>0</td>\n",
              "      <td>0</td>\n",
              "      <td>0</td>\n",
              "      <td>0</td>\n",
              "      <td>0</td>\n",
              "      <td>0</td>\n",
              "      <td>0</td>\n",
              "      <td>0</td>\n",
              "      <td>0</td>\n",
              "      <td>0</td>\n",
              "      <td>0</td>\n",
              "      <td>0</td>\n",
              "      <td>0</td>\n",
              "      <td>0</td>\n",
              "      <td>0</td>\n",
              "      <td>0</td>\n",
              "      <td>0</td>\n",
              "      <td>0</td>\n",
              "      <td>0</td>\n",
              "      <td>0</td>\n",
              "      <td>0</td>\n",
              "      <td>0</td>\n",
              "      <td>0</td>\n",
              "      <td>0</td>\n",
              "      <td>0</td>\n",
              "      <td>0</td>\n",
              "      <td>0</td>\n",
              "      <td>0</td>\n",
              "      <td>1</td>\n",
              "      <td>1</td>\n",
              "      <td>1</td>\n",
              "      <td>0</td>\n",
              "      <td>0</td>\n",
              "    </tr>\n",
              "  </tbody>\n",
              "</table>\n",
              "</div>"
            ],
            "text/plain": [
              "   Sex   Age  SibSp  Parch     Fare  Title_Master  Title_Miss  Title_Mr  \\\n",
              "0    1  22.0      1      0   7.2500             0           0         1   \n",
              "1    0  38.0      1      0  71.2833             0           0         0   \n",
              "2    0  26.0      0      0   7.9250             0           1         0   \n",
              "3    0  35.0      1      0  53.1000             0           0         0   \n",
              "4    1  35.0      0      0   8.0500             0           0         1   \n",
              "\n",
              "   Title_Mrs  Title_Officer  Title_Royalty  Embarked_C  Embarked_Q  \\\n",
              "0          0              0              0           0           0   \n",
              "1          1              0              0           1           0   \n",
              "2          0              0              0           0           0   \n",
              "3          1              0              0           0           0   \n",
              "4          0              0              0           0           0   \n",
              "\n",
              "   Embarked_S  Cabin_A  Cabin_B  Cabin_C  Cabin_D  Cabin_E  Cabin_F  Cabin_G  \\\n",
              "0           1        0        0        0        0        0        0        0   \n",
              "1           0        0        0        1        0        0        0        0   \n",
              "2           1        0        0        0        0        0        0        0   \n",
              "3           1        0        0        1        0        0        0        0   \n",
              "4           1        0        0        0        0        0        0        0   \n",
              "\n",
              "   Cabin_T  Cabin_U  Pclass_1  Pclass_2  Pclass_3  Ticket_A  Ticket_A4  \\\n",
              "0        0        1         0         0         1         0          0   \n",
              "1        0        0         1         0         0         0          0   \n",
              "2        0        1         0         0         1         0          0   \n",
              "3        0        0         1         0         0         0          0   \n",
              "4        0        1         0         0         1         0          0   \n",
              "\n",
              "   Ticket_A5  Ticket_AQ3  Ticket_AQ4  Ticket_AS  Ticket_C  Ticket_CA  \\\n",
              "0          1           0           0          0         0          0   \n",
              "1          0           0           0          0         0          0   \n",
              "2          0           0           0          0         0          0   \n",
              "3          0           0           0          0         0          0   \n",
              "4          0           0           0          0         0          0   \n",
              "\n",
              "   Ticket_CASOTON  Ticket_FC  Ticket_FCC  Ticket_Fa  Ticket_LINE  Ticket_LP  \\\n",
              "0               0          0           0          0            0          0   \n",
              "1               0          0           0          0            0          0   \n",
              "2               0          0           0          0            0          0   \n",
              "3               0          0           0          0            0          0   \n",
              "4               0          0           0          0            0          0   \n",
              "\n",
              "   Ticket_PC  Ticket_PP  Ticket_PPP  Ticket_SC  Ticket_SCA3  Ticket_SCA4  \\\n",
              "0          0          0           0          0            0            0   \n",
              "1          1          0           0          0            0            0   \n",
              "2          0          0           0          0            0            0   \n",
              "3          0          0           0          0            0            0   \n",
              "4          0          0           0          0            0            0   \n",
              "\n",
              "   Ticket_SCAH  Ticket_SCOW  Ticket_SCPARIS  Ticket_SCParis  Ticket_SOC  \\\n",
              "0            0            0               0               0           0   \n",
              "1            0            0               0               0           0   \n",
              "2            0            0               0               0           0   \n",
              "3            0            0               0               0           0   \n",
              "4            0            0               0               0           0   \n",
              "\n",
              "   Ticket_SOP  Ticket_SOPP  Ticket_SOTONO2  Ticket_SOTONOQ  Ticket_SP  \\\n",
              "0           0            0               0               0          0   \n",
              "1           0            0               0               0          0   \n",
              "2           0            0               0               0          0   \n",
              "3           0            0               0               0          0   \n",
              "4           0            0               0               0          0   \n",
              "\n",
              "   Ticket_STONO  Ticket_STONO2  Ticket_STONOQ  Ticket_SWPP  Ticket_WC  \\\n",
              "0             0              0              0            0          0   \n",
              "1             0              0              0            0          0   \n",
              "2             0              1              0            0          0   \n",
              "3             0              0              0            0          0   \n",
              "4             0              0              0            0          0   \n",
              "\n",
              "   Ticket_WEP  Ticket_XXX  FamilySize  Singleton  SmallFamily  LargeFamily  \n",
              "0           0           0           2          0            1            0  \n",
              "1           0           0           2          0            1            0  \n",
              "2           0           0           1          1            0            0  \n",
              "3           0           1           2          0            1            0  \n",
              "4           0           1           1          1            0            0  "
            ]
          },
          "metadata": {
            "tags": []
          },
          "execution_count": 102
        }
      ]
    },
    {
      "cell_type": "markdown",
      "metadata": {
        "id": "Eq1L9b8zfPEw"
      },
      "source": [
        "# III - Modelagem"
      ]
    },
    {
      "cell_type": "markdown",
      "metadata": {
        "id": "PVqtISgkfYiM"
      },
      "source": [
        "Nesta parte, usamos nosso conhecimento dos passageiros com base nos recursos que criamos e, em seguida, construímos um modelo estatístico. Você pode pensar neste modelo como uma caixa que processa as informações de qualquer novo passageiro e decide se ele sobreviverá ou não.\n",
        "\n",
        "Há uma grande variedade de modelos a serem usados, desde regressão logística até árvores de decisão e modelos mais sofisticados, como florestas aleatórias e árvores com aumento de gradiente.\n",
        "\n",
        "Estaremos usando Random Forests. Random Froests provou ser uma grande eficiência nas competições Kaggle.\n",
        "\n",
        "Para obter mais detalhes sobre por que os métodos de conjunto funcionam bem, você pode consultar estas postagens:\n",
        "\n",
        "  * http://mlwave.com/kaggle-ensembling-guide/\n",
        "  * http://www.overkillanalytics.net/more-is-always-better-the-power-of-simple-ensembles/\n",
        "\n",
        "De volta ao nosso problema, agora temos que:\n",
        "\n",
        "  1. Divida o conjunto de dados combinado em conjunto de trem e conjunto de teste.\n",
        "  2. Use o conjunto de treinamento para construir um modelo preditivo.\n",
        "  3. Avalie o modelo usando o conjunto de trem.\n",
        "  4. Teste o modelo usando o conjunto de teste e gere um arquivo de saída para o envio.\n",
        "\n",
        "Lembre-se de que teremos que repetir em 2. e 3. até que uma pontuação de avaliação aceitável seja alcançada."
      ]
    },
    {
      "cell_type": "markdown",
      "metadata": {
        "id": "gNWCLItJfruj"
      },
      "source": [
        "Vamos começar importando as bibliotecas úteis."
      ]
    },
    {
      "cell_type": "code",
      "metadata": {
        "id": "e8Fwk9y3fun2"
      },
      "source": [
        "from sklearn.pipeline import make_pipeline\n",
        "from sklearn.ensemble import RandomForestClassifier\n",
        "from sklearn.ensemble.gradient_boosting import GradientBoostingClassifier\n",
        "from sklearn.feature_selection import SelectKBest\n",
        "from sklearn.model_selection import StratifiedKFold\n",
        "from sklearn.model_selection import GridSearchCV\n",
        "from sklearn.model_selection import cross_val_score\n",
        "from sklearn.feature_selection import SelectFromModel\n",
        "from sklearn.linear_model import LogisticRegression, LogisticRegressionCV"
      ],
      "execution_count": null,
      "outputs": []
    },
    {
      "cell_type": "markdown",
      "metadata": {
        "id": "fINB0cwQgVfy"
      },
      "source": [
        "Para avaliar nosso modelo, usaremos uma validação cruzada de 5 vezes com a precisão, pois é a métrica que a concorrência usa na tabela de classificação.\n",
        "\n",
        "Para fazer isso, vamos definir uma pequena função de pontuação."
      ]
    },
    {
      "cell_type": "code",
      "metadata": {
        "id": "NWwrqNSigXCS"
      },
      "source": [
        "def compute_score(clf, X, y, scoring='accuracy'):\n",
        "  xval = cross_val_score(clf, X, y, cv=5, scoring=scoring)\n",
        "  return np.mean(xval)"
      ],
      "execution_count": null,
      "outputs": []
    },
    {
      "cell_type": "markdown",
      "metadata": {
        "id": "3bWrHLkigtod"
      },
      "source": [
        "Recuperar o conjunto de trem e o conjunto de teste do conjunto de dados combinado é uma tarefa fácil."
      ]
    },
    {
      "cell_type": "code",
      "metadata": {
        "id": "HeKJj1M6gwWR"
      },
      "source": [
        "def recover_train_test_target():\n",
        "  global combined\n",
        "  \n",
        "  targets = pd.read_csv(io.BytesIO(uploaded['train.csv']), usecols=['Survived'])['Survived'].values\n",
        "  train = combined.iloc[:891]\n",
        "  test = combined.iloc[891:]\n",
        "\n",
        "  return train, test, targets"
      ],
      "execution_count": null,
      "outputs": []
    },
    {
      "cell_type": "code",
      "metadata": {
        "id": "lLiFdQQQhqlr"
      },
      "source": [
        "train, test, targets = recover_train_test_target()"
      ],
      "execution_count": null,
      "outputs": []
    },
    {
      "cell_type": "markdown",
      "metadata": {
        "id": "w4g_or2ghsoi"
      },
      "source": [
        "### Seleção de recursos\n",
        "\n",
        "Chegamos a mais de 30 recursos até agora. Esse número é muito grande.\n",
        "\n",
        "Quando a engenharia de recursos é concluída, geralmente tendemos a diminuir a dimensionalidade selecionando o número \"certo\" de recursos que capturam o essencial.\n",
        "\n",
        "Na verdade, a seleção de recursos traz muitos benefícios:\n",
        "\n",
        "* Diminui a redundância entre os dados\n",
        "* Acelera o processo de treinamento\n",
        "* Reduz o overfitting"
      ]
    },
    {
      "cell_type": "markdown",
      "metadata": {
        "id": "H548vQvyiH69"
      },
      "source": [
        "Estimadores baseados em árvore podem ser usados ​​para calcular importâncias de recursos, que por sua vez podem ser usados ​​para descartar recursos irrelevantes."
      ]
    },
    {
      "cell_type": "code",
      "metadata": {
        "id": "P7nFs1dHiJjF"
      },
      "source": [
        "clf = RandomForestClassifier(n_estimators=50, max_features='sqrt')\n",
        "clf = clf.fit(train, targets)"
      ],
      "execution_count": null,
      "outputs": []
    },
    {
      "cell_type": "markdown",
      "metadata": {
        "id": "hhzNp6cTiKw1"
      },
      "source": [
        "Let's have a look at the importance of each feature."
      ]
    },
    {
      "cell_type": "code",
      "metadata": {
        "id": "NuHEY_eIiMN_"
      },
      "source": [
        "features = pd.DataFrame()\n",
        "features['feature'] = train.columns\n",
        "features['importance'] = clf.feature_importances_\n",
        "features.sort_values(by=['importance'], ascending=True, inplace=True)\n",
        "features.set_index('feature', inplace=True)"
      ],
      "execution_count": null,
      "outputs": []
    },
    {
      "cell_type": "code",
      "metadata": {
        "id": "VS6DVIAeiPgt",
        "colab": {
          "base_uri": "https://localhost:8080/",
          "height": 1000
        },
        "outputId": "1542cc80-bd70-4d38-d8bc-5b03f0fd0c42"
      },
      "source": [
        "features.plot(kind='barh', figsize=(25, 25))"
      ],
      "execution_count": null,
      "outputs": [
        {
          "output_type": "execute_result",
          "data": {
            "text/plain": [
              "<matplotlib.axes._subplots.AxesSubplot at 0x7feb2f4c1048>"
            ]
          },
          "metadata": {
            "tags": []
          },
          "execution_count": 109
        },
        {
          "output_type": "display_data",
          "data": {
            "image/png": "[encoded data removed]",
            "text/plain": [
              "<Figure size 3750x3750 with 1 Axes>"
            ]
          },
          "metadata": {
            "tags": [],
            "needs_background": "light"
          }
        }
      ]
    },
    {
      "cell_type": "markdown",
      "metadata": {
        "id": "CuO_rObMiT64"
      },
      "source": [
        "Como você pode notar, há uma grande importância associada a Title_Mr, Age, Fare e Sex.\n",
        "\n",
        "Também existe uma correlação importante com o Passenger_Id.\n",
        "\n",
        "Vamos agora transformar nosso conjunto de treino e conjunto de teste em conjuntos de dados mais compactos."
      ]
    },
    {
      "cell_type": "code",
      "metadata": {
        "id": "gKqD_EkiiX7Q",
        "colab": {
          "base_uri": "https://localhost:8080/"
        },
        "outputId": "ffde1cdc-a4c5-4b03-ad4c-bbd7c6404a6d"
      },
      "source": [
        "model = SelectFromModel(clf, prefit=True)\n",
        "train_reduced = model.transform(train)\n",
        "print(train_reduced.shape)"
      ],
      "execution_count": null,
      "outputs": [
        {
          "output_type": "stream",
          "text": [
            "(891, 13)\n"
          ],
          "name": "stdout"
        }
      ]
    },
    {
      "cell_type": "code",
      "metadata": {
        "id": "fsZ4zco1ikao",
        "colab": {
          "base_uri": "https://localhost:8080/"
        },
        "outputId": "92021856-06e2-45ef-8bed-6ef73152e1c4"
      },
      "source": [
        "test_reduced = model.transform(test)\n",
        "print(test_reduced.shape)"
      ],
      "execution_count": null,
      "outputs": [
        {
          "output_type": "stream",
          "text": [
            "(418, 13)\n"
          ],
          "name": "stdout"
        }
      ]
    },
    {
      "cell_type": "markdown",
      "metadata": {
        "id": "a8HO3iX6itSr"
      },
      "source": [
        "Yay! Agora temos muito menos recursos.\n",
        "\n",
        "Veremos se usaremos a versão reduzida ou completa do conjunto de treino."
      ]
    },
    {
      "cell_type": "markdown",
      "metadata": {
        "id": "PoNlKuEbknWk"
      },
      "source": [
        "### Vamos tentar diferentes modelos básicos"
      ]
    },
    {
      "cell_type": "code",
      "metadata": {
        "id": "NmpAKACQkri0"
      },
      "source": [
        "logreg = LogisticRegression()\n",
        "logreg_cv = LogisticRegressionCV()\n",
        "rf = RandomForestClassifier()\n",
        "gboost = GradientBoostingClassifier()\n",
        "\n",
        "models = [logreg, logreg_cv, rf, gboost]"
      ],
      "execution_count": null,
      "outputs": []
    },
    {
      "cell_type": "code",
      "metadata": {
        "id": "jTL0AF5vktp_",
        "colab": {
          "base_uri": "https://localhost:8080/"
        },
        "outputId": "b2153425-acf2-4c00-9a9c-f793d66c0041"
      },
      "source": [
        "for model in models:\n",
        "    print('Cross-validation of : {0}'.format(model.__class__))\n",
        "    score = compute_score(clf=model, X=train_reduced, y=targets, scoring='accuracy')\n",
        "    print('CV score = {0}'.format(score))\n",
        "    print('****')"
      ],
      "execution_count": null,
      "outputs": [
        {
          "output_type": "stream",
          "text": [
            "Cross-validation of : <class 'sklearn.linear_model._logistic.LogisticRegression'>\n",
            "CV score = 0.8215491808423827\n",
            "****\n",
            "Cross-validation of : <class 'sklearn.linear_model._logistic.LogisticRegressionCV'>\n",
            "CV score = 0.821542903772519\n",
            "****\n",
            "Cross-validation of : <class 'sklearn.ensemble._forest.RandomForestClassifier'>\n",
            "CV score = 0.8058376749733224\n",
            "****\n",
            "Cross-validation of : <class 'sklearn.ensemble._gb.GradientBoostingClassifier'>\n",
            "CV score = 0.8316552633230808\n",
            "****\n"
          ],
          "name": "stdout"
        }
      ]
    },
    {
      "cell_type": "markdown",
      "metadata": {
        "id": "IQXErT25lCIl"
      },
      "source": [
        "### Ajuste de hiperparâmetros"
      ]
    },
    {
      "cell_type": "markdown",
      "metadata": {
        "id": "jj_C-0HllFbO"
      },
      "source": [
        "Conforme mencionado no início da parte de modelagem, estaremos usando um modelo de floresta aleatória. Pode não ser o melhor modelo para esta tarefa, mas mostraremos como ajustá-lo. Este trabalho pode ser aplicado a diferentes modelos.\n",
        "\n",
        "Random Forest são bastante úteis. No entanto, eles vêm com alguns parâmetros a serem ajustados a fim de obter um modelo ideal para a tarefa de previsão.\n",
        "\n",
        "Para aprender mais sobre Florestas Aleatórias, você pode consultar este\n",
        "<a href=\"https://www.analyticsvidhya.com/blog/2015/06/tuning-random-forest-model/\">link </a>:\n",
        "\n",
        "Além disso, usaremos o conjunto completo de treino."
      ]
    },
    {
      "cell_type": "code",
      "metadata": {
        "id": "PVavmbZwacmL",
        "colab": {
          "base_uri": "https://localhost:8080/"
        },
        "outputId": "896096cc-9eb7-40fe-e673-4020a85c2e2b"
      },
      "source": [
        "# turn run_gs to True if you want to run the gridsearch again.\n",
        "run_gs = True\n",
        "\n",
        "if run_gs:\n",
        "    parameter_grid = {\n",
        "                 'max_depth' : [8, 12, 16],\n",
        "                 'n_estimators': [200, 40],\n",
        "                 'max_features': ['sqrt', 'auto', 'log2'],\n",
        "                 'min_samples_split': [2, 3, 10],\n",
        "                 'min_samples_leaf': [5, 15, 50],\n",
        "                 'bootstrap': [True, False],\n",
        "                 }\n",
        "    forest = RandomForestClassifier()\n",
        "    cross_validation = StratifiedKFold(n_splits=5)\n",
        "\n",
        "    grid_search = GridSearchCV(forest,\n",
        "                               scoring='accuracy',\n",
        "                               param_grid=parameter_grid,\n",
        "                               cv=cross_validation,\n",
        "                               verbose=1\n",
        "                              )\n",
        "\n",
        "    grid_search.fit(train, targets)\n",
        "    model = grid_search\n",
        "    parameters = grid_search.best_params_\n",
        "\n",
        "    print('Best score: {}'.format(grid_search.best_score_))\n",
        "    print('Best parameters: {}'.format(grid_search.best_params_))\n",
        "    \n",
        "else: \n",
        "    parameters = {'bootstrap': False, 'min_samples_leaf': 3, 'n_estimators': 50, \n",
        "                  'min_samples_split': 10, 'max_features': 'sqrt', 'max_depth': 6}\n",
        "    \n",
        "    model = RandomForestClassifier(**parameters)\n",
        "    model.fit(train, targets)"
      ],
      "execution_count": null,
      "outputs": [
        {
          "output_type": "stream",
          "text": [
            "Fitting 5 folds for each of 324 candidates, totalling 1620 fits\n"
          ],
          "name": "stdout"
        },
        {
          "output_type": "stream",
          "text": [
            "[Parallel(n_jobs=1)]: Using backend SequentialBackend with 1 concurrent workers.\n"
          ],
          "name": "stderr"
        },
        {
          "output_type": "stream",
          "text": [
            "Best score: 0.833889900194589\n",
            "Best parameters: {'bootstrap': True, 'max_depth': 16, 'max_features': 'auto', 'min_samples_leaf': 5, 'min_samples_split': 2, 'n_estimators': 40}\n"
          ],
          "name": "stdout"
        },
        {
          "output_type": "stream",
          "text": [
            "[Parallel(n_jobs=1)]: Done 1620 out of 1620 | elapsed:  4.4min finished\n"
          ],
          "name": "stderr"
        }
      ]
    },
    {
      "cell_type": "code",
      "metadata": {
        "id": "SnxQoXix1NPb"
      },
      "source": [
        ""
      ],
      "execution_count": null,
      "outputs": []
    },
    {
      "cell_type": "markdown",
      "metadata": {
        "id": "S--cFN9yaexU"
      },
      "source": [
        "Agora que o modelo foi construído examinando várias combinações de hiperparâmetros, podemos gerar um arquivo de saída para enviar no Kaggle."
      ]
    },
    {
      "cell_type": "code",
      "metadata": {
        "id": "ZSmYDOt3agyF"
      },
      "source": [
        "output = model.predict(test).astype(int)\n",
        "df_output = pd.DataFrame()\n",
        "aux = pd.read_csv(io.BytesIO(uploaded['test.csv']))\n",
        "df_output['PassengerId'] = aux['PassengerId']\n",
        "df_output['Survived'] = output\n",
        "df_output[['PassengerId','Survived']].to_csv('vai.csv', index=False)"
      ],
      "execution_count": null,
      "outputs": []
    },
    {
      "cell_type": "markdown",
      "metadata": {
        "id": "2D5WYhsMiVSj"
      },
      "source": [
        "### [Bonus] Blending different models"
      ]
    },
    {
      "cell_type": "code",
      "metadata": {
        "id": "pRh_zy8gidn1"
      },
      "source": [
        "trained_models = []\n",
        "for model in models:\n",
        "    model.fit(train, targets)\n",
        "    trained_models.append(model)\n",
        "\n",
        "predictions = []\n",
        "for model in trained_models:\n",
        "    predictions.append(model.predict_proba(test)[:, 1])\n",
        "\n",
        "predictions_df = pd.DataFrame(predictions).T\n",
        "predictions_df['out'] = predictions_df.mean(axis=1)\n",
        "predictions_df['PassengerId'] = aux['PassengerId']\n",
        "predictions_df['out'] = predictions_df['out'].map(lambda s: 1 if s >= 0.5 else 0)\n",
        "\n",
        "predictions_df = predictions_df[['PassengerId', 'out']]\n",
        "predictions_df.columns = ['PassengerId', 'Survived']"
      ],
      "execution_count": null,
      "outputs": []
    },
    {
      "cell_type": "code",
      "metadata": {
        "id": "wxmjNdxrifie"
      },
      "source": [
        "predictions_df.to_csv('blending_base_models.csv', index=False)"
      ],
      "execution_count": null,
      "outputs": []
    },
    {
      "cell_type": "markdown",
      "metadata": {
        "id": "l76UFp9ciy9m"
      },
      "source": [
        "Para ter um bom envio de mesclagem, os modelos básicos devem ser diferentes e suas correlações não correlacionadas."
      ]
    },
    {
      "cell_type": "markdown",
      "metadata": {
        "id": "kzK4KzzQi3Kw"
      },
      "source": [
        "## IV - Conclusion"
      ]
    }
  ]
}